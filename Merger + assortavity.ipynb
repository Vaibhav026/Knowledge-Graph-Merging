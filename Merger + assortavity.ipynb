{
 "cells": [
  {
   "cell_type": "code",
   "execution_count": 0,
   "metadata": {
    "colab": {},
    "colab_type": "code",
    "id": "2npmtwMzKkH2"
   },
   "outputs": [],
   "source": [
    "a = 1"
   ]
  },
  {
   "cell_type": "code",
   "execution_count": 0,
   "metadata": {
    "colab": {
     "base_uri": "https://localhost:8080/",
     "height": 36
    },
    "colab_type": "code",
    "id": "HuTEITrCKmNZ",
    "outputId": "acc8314b-e8f6-4b16-9ba2-edfc114c087f"
   },
   "outputs": [
    {
     "data": {
      "text/plain": [
       "1"
      ]
     },
     "execution_count": 4,
     "metadata": {
      "tags": []
     },
     "output_type": "execute_result"
    }
   ],
   "source": [
    "a"
   ]
  },
  {
   "cell_type": "code",
   "execution_count": 1,
   "metadata": {
    "colab": {
     "base_uri": "https://localhost:8080/",
     "height": 208
    },
    "colab_type": "code",
    "id": "HfOiHpteKncz",
    "outputId": "e7fe3e2c-0a6f-4ade-bf18-c3c86689bdae"
   },
   "outputs": [
    {
     "name": "stdout",
     "output_type": "stream",
     "text": [
      "--2019-07-09 05:36:29--  https://s3.amazonaws.com/conceptnet/downloads/2018/edges/conceptnet-assertions-5.6.0.csv.gz\n",
      "Resolving s3.amazonaws.com (s3.amazonaws.com)... 52.216.139.221\n",
      "Connecting to s3.amazonaws.com (s3.amazonaws.com)|52.216.139.221|:443... connected.\n",
      "HTTP request sent, awaiting response... 200 OK\n",
      "Length: 471053810 (449M) [text/csv]\n",
      "Saving to: ‘conceptnet-assertions-5.6.0.csv.gz’\n",
      "\n",
      "conceptnet-assertio 100%[===================>] 449.23M  46.7MB/s    in 9.3s    \n",
      "\n",
      "2019-07-09 05:36:39 (48.3 MB/s) - ‘conceptnet-assertions-5.6.0.csv.gz’ saved [471053810/471053810]\n",
      "\n"
     ]
    }
   ],
   "source": [
    "!wget https://s3.amazonaws.com/conceptnet/downloads/2018/edges/conceptnet-assertions-5.6.0.csv.gz"
   ]
  },
  {
   "cell_type": "code",
   "execution_count": 0,
   "metadata": {
    "colab": {},
    "colab_type": "code",
    "id": "fSny3wdKSJea"
   },
   "outputs": [],
   "source": [
    "!gunzip conceptnet-assertions-5.6.0.csv.gz"
   ]
  },
  {
   "cell_type": "code",
   "execution_count": 0,
   "metadata": {
    "colab": {},
    "colab_type": "code",
    "id": "cg4i2Tq3Y9Rw"
   },
   "outputs": [],
   "source": [
    "graph = {}\n",
    "i = 1\n",
    "\n",
    "with open(\"conceptnet-assertions-5.6.0.csv\",\"r\") as f1:\n",
    "\tfor x in f1:\n",
    "\t\t# print(i)\n",
    "\t\ti = i +1\n",
    "\t\ta,b,c,d,e = x.split('\t',4)\n",
    "\n",
    "\n",
    "\t\t# print(a)\n",
    "\t\t# print(b)\n",
    "\t\t# print(c)\n",
    "\t\t# print(d)\n",
    "\t\t# print(e)\n",
    "\n",
    "\n",
    "\t\t# relation\n",
    "\t\tb1,b2,b3 = b.split('/',2)\n",
    "\n",
    "\t\tif(\"/\" in b3):\n",
    "\t\t\tb33,b4 = b3.split('/')\n",
    "\t\telse:\n",
    "\t\t\tb4 = b3\t\n",
    " \t\t# print(b1)\n",
    "\t\t# print(b2)\n",
    "\t\t# print(b3)\n",
    "\t\t# print(b4)\n",
    "\n",
    "\n",
    "\t\t# entity1\n",
    "\t\tc1,c2,c3,c4 = c.split('/',3)\n",
    "\n",
    "\t\tif(\"/\" in c4):\n",
    "\t\t\tc4,c5 = c4.split('/')\n",
    "\t\t\n",
    "\t\t# print(c1)\n",
    "\t\t# print(c2)\n",
    "\t\t# print(c3)\n",
    "\t\t# print(c4)\n",
    "\t\t# print(c5)\n",
    "\n",
    "\t\t# entity2\n",
    "\t\td1,d2,d3,d4 = d.split('/',3)\n",
    "\n",
    "\t\tif(\"/\" in d4):\n",
    "\t\t\td4,d5 = d4.split('/',1)\n",
    "\t\t# print(d1)\n",
    "\t\t# print(d2)\n",
    "\t\t# print(d3)\n",
    "\t\t# print(d4)\n",
    "\n",
    "\n",
    "\t\t# print(c4)\n",
    "\t\t# print(b4)\n",
    "\t\t# print(d4)\n",
    "\n",
    "\t\tc4 = c4.rstrip()\n",
    "\t\tb4 = b4.rstrip()\n",
    "\t\td4 = d4.rstrip()\n",
    "\t\tif(c4 not in graph):\n",
    "\t\t\tgraph[c4] = []\n",
    "\t\t\t\n",
    "\t\tgraph[c4].append((b4,d4))"
   ]
  },
  {
   "cell_type": "code",
   "execution_count": 0,
   "metadata": {
    "colab": {
     "base_uri": "https://localhost:8080/",
     "height": 208
    },
    "colab_type": "code",
    "id": "JyLyLzhVepiY",
    "outputId": "e66f9fbf-e422-4411-8f85-1dfcec2e916b"
   },
   "outputs": [
    {
     "name": "stdout",
     "output_type": "stream",
     "text": [
      "--2019-06-27 10:36:13--  https://github.com/dongwookim-ml/kg-data/blob/master/nation/triples.txt\n",
      "Resolving github.com (github.com)... 192.30.253.113\n",
      "Connecting to github.com (github.com)|192.30.253.113|:443... connected.\n",
      "HTTP request sent, awaiting response... 200 OK\n",
      "Length: unspecified [text/html]\n",
      "Saving to: ‘triples.txt’\n",
      "\n",
      "triples.txt             [  <=>               ] 440.75K  1.47MB/s    in 0.3s    \n",
      "\n",
      "2019-06-27 10:36:14 (1.47 MB/s) - ‘triples.txt’ saved [451330]\n",
      "\n"
     ]
    }
   ],
   "source": []
  },
  {
   "cell_type": "code",
   "execution_count": 0,
   "metadata": {
    "colab": {},
    "colab_type": "code",
    "id": "0_HilhcMgczc"
   },
   "outputs": [],
   "source": []
  },
  {
   "cell_type": "code",
   "execution_count": 0,
   "metadata": {
    "colab": {
     "base_uri": "https://localhost:8080/",
     "height": 124
    },
    "colab_type": "code",
    "id": "VsmEQQhBgvS4",
    "outputId": "9dfc6765-5a43-4fb8-b212-3182841bf0a4"
   },
   "outputs": [
    {
     "name": "stdout",
     "output_type": "stream",
     "text": [
      "Go to this URL in a browser: https://accounts.google.com/o/oauth2/auth?client_id=947318989803-6bn6qk8qdgf4n4g3pfee6491hc0brc4i.apps.googleusercontent.com&redirect_uri=urn%3Aietf%3Awg%3Aoauth%3A2.0%3Aoob&scope=email%20https%3A%2F%2Fwww.googleapis.com%2Fauth%2Fdocs.test%20https%3A%2F%2Fwww.googleapis.com%2Fauth%2Fdrive%20https%3A%2F%2Fwww.googleapis.com%2Fauth%2Fdrive.photos.readonly%20https%3A%2F%2Fwww.googleapis.com%2Fauth%2Fpeopleapi.readonly&response_type=code\n",
      "\n",
      "Enter your authorization code:\n",
      "··········\n",
      "Mounted at /content/drive\n"
     ]
    }
   ],
   "source": []
  },
  {
   "cell_type": "code",
   "execution_count": 0,
   "metadata": {
    "colab": {},
    "colab_type": "code",
    "id": "aqiqhyrLgwmq"
   },
   "outputs": [],
   "source": [
    "s_entities = {}\n",
    "s_rel = {}\n",
    "sparse_graph = {}\n",
    "\n",
    "i = 0\n",
    "with open(\"entity2id.txt\",\"r\") as f1:\n",
    "\tfor x in f1:\n",
    "\t\tif(i != 0):\n",
    "\t\t\ta,b = x.split(' ')\n",
    "\t\t\ta = a.rstrip()\n",
    "\t\t\tb = b.rstrip()\n",
    "\t\t\ts_entities[b] = a\n",
    "\t\t\n",
    "\t\ti = i + 1\t\n",
    "\n",
    "i = 0\n",
    "\n",
    "with open(\"relation2id.txt\",\"r\") as f1:\n",
    "\tfor x in f1:\n",
    "\t\tif(i != 0):\n",
    "\t\t\ta,b = x.split(' ')\n",
    "\t\t\ta = a.rstrip()\n",
    "\t\t\tb = b.rstrip()\n",
    "\t\t\ts_rel[b] = a\n",
    "\t\t\n",
    "\t\ti = i + 1\t\n",
    "\n",
    "i = 0\n",
    "\n",
    "ent_deg = {}\n",
    "\n",
    "with open(\"triples.txt\",\"r\") as f1:\n",
    "\tfor x in f1:\n",
    "\t\t\n",
    "\t\tr,e1,e2 = x.split('\t')\n",
    "\t\t\n",
    "\t\tr = r.rstrip()\n",
    "\t\te1 = e1.rstrip()\n",
    "\t\te2 = e2.rstrip()\n",
    "\n",
    "\t\tif(s_entities[e1] not in sparse_graph):\n",
    "\t\t\tsparse_graph[ s_entities[e1] ] = []\n",
    "\t\t\tent_deg[ s_entities[e1] ] = 0\n",
    "            \n",
    "\t\tsparse_graph[ s_entities[e1] ].append( ( s_rel[r] , s_entities[e2] ) )\n",
    "\t\tent_deg[ s_entities[e1] ] =  ent_deg[s_entities[e1]] + 1 \n"
   ]
  },
  {
   "cell_type": "code",
   "execution_count": 31,
   "metadata": {
    "colab": {
     "base_uri": "https://localhost:8080/",
     "height": 173
    },
    "colab_type": "code",
    "id": "1w0V1b7NhgZZ",
    "outputId": "e977b63f-a2df-41d3-e0cb-bbdab65f0fc0"
   },
   "outputs": [
    {
     "name": "stdout",
     "output_type": "stream",
     "text": [
      "usa\n",
      "uk\n",
      "ussr\n",
      "poland\n",
      "egypt\n",
      "china\n",
      "netherlands\n",
      "india\n",
      "cuba\n"
     ]
    }
   ],
   "source": [
    "ent_sot = sorted(ent_deg.items(), key=lambda x: x[1] , reverse  = True)\n",
    "cnt = 0\n",
    "num = 0\n",
    "for (ent,n) in ent_sot:\n",
    "\t\n",
    "\tprint(ent)\n",
    "\tif(cnt > 7):\n",
    "\t\tbreak\n",
    "\tcnt = cnt + 1\n",
    "\n",
    "\tif(ent in graph):\n",
    "\t\tfor r in graph[ent]:\n",
    "\n",
    "\t\t\tif(r not in sparse_graph[ent]):\n",
    "\t\t\t\tsparse_graph[ent].append(r)\n",
    "\n",
    "\t\t\t\tnum = num + 1\n",
    "        \n",
    "        \n",
    "\t\t\t\tif(r[0] not in s_rel.values()):\n",
    "\t\t\t\t\ts_rel[len(s_rel)] = r[0].rstrip() \n",
    "\n",
    "\t\t\t\tif(r[1] not in s_entities.values()):\n",
    "\t\t\t\t\ts_entities[ len(s_entities) ] = r[1].rstrip() "
   ]
  },
  {
   "cell_type": "code",
   "execution_count": 32,
   "metadata": {
    "colab": {
     "base_uri": "https://localhost:8080/",
     "height": 34
    },
    "colab_type": "code",
    "id": "iSVXUs94TVJx",
    "outputId": "a0cd28c6-5e37-4554-84cd-a601f79389bf"
   },
   "outputs": [
    {
     "data": {
      "text/plain": [
       "1074"
      ]
     },
     "execution_count": 32,
     "metadata": {
      "tags": []
     },
     "output_type": "execute_result"
    }
   ],
   "source": [
    "num"
   ]
  },
  {
   "cell_type": "code",
   "execution_count": 0,
   "metadata": {
    "colab": {},
    "colab_type": "code",
    "id": "E7clsuGKTWOA"
   },
   "outputs": [],
   "source": [
    "import networkx as nx\n",
    "G=nx.Graph()"
   ]
  },
  {
   "cell_type": "code",
   "execution_count": 34,
   "metadata": {
    "colab": {
     "base_uri": "https://localhost:8080/",
     "height": 34
    },
    "colab_type": "code",
    "id": "oEtlWtRATjEa",
    "outputId": "34739abd-35e3-4090-809d-4df3b1173e32"
   },
   "outputs": [
    {
     "data": {
      "text/plain": [
       "975"
      ]
     },
     "execution_count": 34,
     "metadata": {
      "tags": []
     },
     "output_type": "execute_result"
    }
   ],
   "source": [
    "len(s_entities)"
   ]
  },
  {
   "cell_type": "code",
   "execution_count": 0,
   "metadata": {
    "colab": {},
    "colab_type": "code",
    "id": "jgDPgdwXWC3h"
   },
   "outputs": [],
   "source": [
    "ls = []\n",
    "\n",
    "for i in range(0,len(s_entities)):\n",
    "  ls.append(i)"
   ]
  },
  {
   "cell_type": "code",
   "execution_count": 0,
   "metadata": {
    "colab": {},
    "colab_type": "code",
    "id": "FlaRVqc6WPqm"
   },
   "outputs": [],
   "source": [
    " G.add_nodes_from(ls)"
   ]
  },
  {
   "cell_type": "code",
   "execution_count": 0,
   "metadata": {
    "colab": {},
    "colab_type": "code",
    "id": "OJS8NNEhWQTE"
   },
   "outputs": [],
   "source": [
    "map_entities = {}\n",
    "map_rel = {}\n",
    "\n",
    "with open(\"Entity2id.txt\",\"w+\") as ent2id:\n",
    "\tent2id.write(str(len(s_entities)) + \"\\n\")\n",
    "\tfor ent in s_entities:\n",
    "\t\tent2id.write(str(s_entities[ent]) + \" \" + str(ent) + \"\\n\")\n",
    "\t\tmap_entities[str(s_entities[ent])] = str(ent)\n",
    "\t\ti = i + 1\n",
    "\n",
    "i = 0\n",
    "\n",
    "\n",
    "\n",
    "with open(\"Relation2id.txt\",\"w+\") as rel2id:\n",
    "\trel2id.write(str(len(s_rel)) + \"\\n\")\n",
    "\tfor rel in s_rel:\n",
    "\t\trel2id.write(str(s_rel[rel]) + \" \" + str(rel) + \"\\n\")\n",
    "\t\tmap_rel[str(s_rel[rel])] = str(rel)\n",
    "\t\ti = i + 1\n",
    "\n",
    "\n",
    "l = 0\n",
    "with open(\"Triples.txt\",\"w+\") as t2id:\n",
    "\tfor ent in sparse_graph:\n",
    "\t\tfor rel in sparse_graph[ent]:\n",
    "\t\t\tt2id.write(str(map_entities[ent]) + \" \" +str(map_entities[rel[1].rstrip()]) + \" \" + str(map_rel[rel[0].rstrip()]) + \"\\n\")\n",
    "\t\t\tG.add_edge( int(map_entities[ent]) , int(map_entities[rel[1].rstrip()]) )\n",
    "\t\t\tl = l + 1\n"
   ]
  },
  {
   "cell_type": "code",
   "execution_count": 28,
   "metadata": {
    "colab": {
     "base_uri": "https://localhost:8080/",
     "height": 34
    },
    "colab_type": "code",
    "id": "wnFgFrb4WUYl",
    "outputId": "36918a8c-dc95-4fec-9cfd-39bffb2d3a3b"
   },
   "outputs": [
    {
     "name": "stdout",
     "output_type": "stream",
     "text": [
      "-0.7\n"
     ]
    }
   ],
   "source": [
    "r=nx.degree_assortativity_coefficient(G,'in','in')\n",
    "print(\"%3.1f\"%r)"
   ]
  },
  {
   "cell_type": "code",
   "execution_count": 43,
   "metadata": {
    "colab": {
     "base_uri": "https://localhost:8080/",
     "height": 34
    },
    "colab_type": "code",
    "id": "Hc1h0BSWWWWO",
    "outputId": "03a9ea4b-694f-46e7-8d45-648775d824dd"
   },
   "outputs": [
    {
     "name": "stdout",
     "output_type": "stream",
     "text": [
      "-0.6738927293633622\n"
     ]
    }
   ],
   "source": [
    "r=nx.degree_assortativity_coefficient(G,'out','in')\n",
    "print(r)"
   ]
  },
  {
   "cell_type": "code",
   "execution_count": 44,
   "metadata": {
    "colab": {
     "base_uri": "https://localhost:8080/",
     "height": 34
    },
    "colab_type": "code",
    "id": "wyXiB5oSWXnc",
    "outputId": "cfbb3cc8-6525-4454-8a90-296f1b61d17d"
   },
   "outputs": [
    {
     "name": "stdout",
     "output_type": "stream",
     "text": [
      "-0.6738927293633622\n"
     ]
    }
   ],
   "source": [
    "r=nx.degree_assortativity_coefficient(G,'in','in')\n",
    "print(r)"
   ]
  },
  {
   "cell_type": "code",
   "execution_count": 45,
   "metadata": {
    "colab": {
     "base_uri": "https://localhost:8080/",
     "height": 34
    },
    "colab_type": "code",
    "id": "iEu772RwaIfq",
    "outputId": "54425f99-0e87-4620-9c11-fe8f8a159c04"
   },
   "outputs": [
    {
     "name": "stdout",
     "output_type": "stream",
     "text": [
      "-0.6738927293633622\n"
     ]
    }
   ],
   "source": [
    "r=nx.degree_assortativity_coefficient(G,'out','out')\n",
    "print(r)"
   ]
  },
  {
   "cell_type": "code",
   "execution_count": 0,
   "metadata": {
    "colab": {},
    "colab_type": "code",
    "id": "gk45b4woadrJ"
   },
   "outputs": [],
   "source": []
  }
 ],
 "metadata": {
  "colab": {
   "name": "Merger.ipynb",
   "provenance": [],
   "version": "0.3.2"
  },
  "kernelspec": {
   "display_name": "Python 3",
   "language": "python",
   "name": "python3"
  },
  "language_info": {
   "codemirror_mode": {
    "name": "ipython",
    "version": 3
   },
   "file_extension": ".py",
   "mimetype": "text/x-python",
   "name": "python",
   "nbconvert_exporter": "python",
   "pygments_lexer": "ipython3",
   "version": "3.5.2"
  }
 },
 "nbformat": 4,
 "nbformat_minor": 1
}
