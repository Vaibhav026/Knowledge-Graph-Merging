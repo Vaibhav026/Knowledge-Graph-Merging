{
  "nbformat": 4,
  "nbformat_minor": 0,
  "metadata": {
    "colab": {
      "name": "Centrl + Nation.ipynb",
      "version": "0.3.2",
      "provenance": []
    },
    "kernelspec": {
      "name": "python3",
      "display_name": "Python 3"
    }
  },
  "cells": [
    {
      "cell_type": "code",
      "metadata": {
        "id": "QHzu-hZmalbh",
        "colab_type": "code",
        "colab": {
          "base_uri": "https://localhost:8080/",
          "height": 208
        },
        "outputId": "66f30408-98f1-4b94-cd54-37e9e03225d5"
      },
      "source": [
        "!wget https://s3.amazonaws.com/conceptnet/downloads/2018/edges/conceptnet-assertions-5.6.0.csv.gz"
      ],
      "execution_count": 1,
      "outputs": [
        {
          "output_type": "stream",
          "text": [
            "--2019-07-04 10:00:47--  https://s3.amazonaws.com/conceptnet/downloads/2018/edges/conceptnet-assertions-5.6.0.csv.gz\n",
            "Resolving s3.amazonaws.com (s3.amazonaws.com)... 52.216.147.69\n",
            "Connecting to s3.amazonaws.com (s3.amazonaws.com)|52.216.147.69|:443... connected.\n",
            "HTTP request sent, awaiting response... 200 OK\n",
            "Length: 471053810 (449M) [text/csv]\n",
            "Saving to: ‘conceptnet-assertions-5.6.0.csv.gz’\n",
            "\n",
            "conceptnet-assertio 100%[===================>] 449.23M  42.8MB/s    in 11s     \n",
            "\n",
            "2019-07-04 10:00:58 (40.6 MB/s) - ‘conceptnet-assertions-5.6.0.csv.gz’ saved [471053810/471053810]\n",
            "\n"
          ],
          "name": "stdout"
        }
      ]
    },
    {
      "cell_type": "code",
      "metadata": {
        "id": "Ktli0qo3beBQ",
        "colab_type": "code",
        "colab": {}
      },
      "source": [
        "!gunzip conceptnet-assertions-5.6.0.csv.gz"
      ],
      "execution_count": 0,
      "outputs": []
    },
    {
      "cell_type": "code",
      "metadata": {
        "id": "QrCXh5IHbj7R",
        "colab_type": "code",
        "colab": {}
      },
      "source": [
        "graph = {}\n",
        "i = 1\n",
        "\n",
        "with open(\"conceptnet-assertions-5.6.0.csv\",\"r\") as f1:\n",
        "\tfor x in f1:\n",
        "\t\t# print(i)\n",
        "\t\ti = i +1\n",
        "\t\ta,b,c,d,e = x.split('\t',4)\n",
        "\n",
        "\n",
        "\t\t# print(a)\n",
        "\t\t# print(b)\n",
        "\t\t# print(c)\n",
        "\t\t# print(d)\n",
        "\t\t# print(e)\n",
        "\n",
        "\n",
        "\t\t# relation\n",
        "\t\tb1,b2,b3 = b.split('/',2)\n",
        "\n",
        "\t\tif(\"/\" in b3):\n",
        "\t\t\tb33,b4 = b3.split('/')\n",
        "\t\telse:\n",
        "\t\t\tb4 = b3\t\n",
        " \t\t# print(b1)\n",
        "\t\t# print(b2)\n",
        "\t\t# print(b3)\n",
        "\t\t# print(b4)\n",
        "\n",
        "\n",
        "\t\t# entity1\n",
        "\t\tc1,c2,c3,c4 = c.split('/',3)\n",
        "\n",
        "\t\tif(\"/\" in c4):\n",
        "\t\t\tc4,c5 = c4.split('/')\n",
        "\t\t\n",
        "\t\t# print(c1)\n",
        "\t\t# print(c2)\n",
        "\t\t# print(c3)\n",
        "\t\t# print(c4)\n",
        "\t\t# print(c5)\n",
        "\n",
        "\t\t# entity2\n",
        "\t\td1,d2,d3,d4 = d.split('/',3)\n",
        "\n",
        "\t\tif(\"/\" in d4):\n",
        "\t\t\td4,d5 = d4.split('/',1)\n",
        "\t\t# print(d1)\n",
        "\t\t# print(d2)\n",
        "\t\t# print(d3)\n",
        "\t\t# print(d4)\n",
        "\n",
        "\n",
        "\t\t# print(c4)\n",
        "\t\t# print(b4)\n",
        "\t\t# print(d4)\n",
        "\n",
        "\t\tc4 = c4.rstrip()\n",
        "\t\tb4 = b4.rstrip()\n",
        "\t\td4 = d4.rstrip()\n",
        "\t\tif(c4 not in graph):\n",
        "\t\t\tgraph[c4] = []\n",
        "\t\t\t\n",
        "\t\tgraph[c4].append((b4,d4))"
      ],
      "execution_count": 0,
      "outputs": []
    },
    {
      "cell_type": "code",
      "metadata": {
        "id": "P_4gEdHScuXB",
        "colab_type": "code",
        "colab": {}
      },
      "source": [
        "s_entities = {}\n",
        "s_rel = {}\n",
        "sparse_graph = {}\n",
        "\n",
        "i = 0\n",
        "with open(\"entity2id.txt\",\"r\") as f1:\n",
        "\tfor x in f1:\n",
        "\t\tif(i != 0):\n",
        "\t\t\ta,b = x.split(' ')\n",
        "\t\t\ta = a.rstrip()\n",
        "\t\t\tb = b.rstrip()\n",
        "\t\t\ts_entities[b] = a\n",
        "\t\t\n",
        "\t\ti = i + 1\t\n",
        "\n",
        "i = 0\n",
        "\n",
        "with open(\"relation2id.txt\",\"r\") as f1:\n",
        "\tfor x in f1:\n",
        "\t\tif(i != 0):\n",
        "\t\t\ta,b = x.split(' ')\n",
        "\t\t\ta = a.rstrip()\n",
        "\t\t\tb = b.rstrip()\n",
        "\t\t\ts_rel[b] = a\n",
        "\t\t\n",
        "\t\ti = i + 1\t\n",
        "\n",
        "i = 0\n",
        "\n",
        "ent_deg = {}\n",
        "\n",
        "with open(\"triples.txt\",\"r\") as f1:\n",
        "\tfor x in f1:\n",
        "\t\t\n",
        "\t\tr,e1,e2 = x.split('\t')\n",
        "\t\t\n",
        "\t\tr = r.rstrip()\n",
        "\t\te1 = e1.rstrip()\n",
        "\t\te2 = e2.rstrip()\n",
        "\n",
        "\t\tif(s_entities[e1] not in sparse_graph):\n",
        "\t\t\tsparse_graph[ s_entities[e1] ] = []\n",
        "\t\t\tent_deg[ s_entities[e1] ] = 0\n",
        "            \n",
        "\t\tsparse_graph[ s_entities[e1] ].append( ( s_rel[r] , s_entities[e2] ) )\n",
        "\t\tent_deg[ s_entities[e1] ] =  ent_deg[s_entities[e1]] + 1 \n",
        "\n",
        "\n",
        "\n"
      ],
      "execution_count": 0,
      "outputs": []
    },
    {
      "cell_type": "code",
      "metadata": {
        "id": "sDg-pDsRe4XD",
        "colab_type": "code",
        "colab": {}
      },
      "source": [
        "cnt = 0\n",
        "ent_sot = sorted(ent_deg.items(), key=lambda x: x[1] , reverse  = True)\n",
        "\n",
        "num = 0\n",
        "for (ent,n) in ent_sot:\n",
        "\t\n",
        "# \tprint(ent)\n",
        "\tif(cnt > 7):\n",
        "\t\tbreak\n",
        "\tcnt = cnt + 1\n",
        "\n",
        "\tif(ent in graph):\n",
        "\t\tfor r in graph[ent]:\n",
        "\n",
        "\t\t\tif(r not in sparse_graph[ent]):\n",
        "\t\t\t\tsparse_graph[ent].append(r)\n",
        "\n",
        "\t\t\t\tnum = num + 1\n",
        "        \n",
        "        \n",
        "\t\t\t\tif(r[0] not in s_rel.values()):\n",
        "\t\t\t\t\ts_rel[len(s_rel)] = r[0].rstrip() \n",
        "\n",
        "\t\t\t\tif(r[1] not in s_entities.values()):\n",
        "\t\t\t\t\ts_entities[ len(s_entities) ] = r[1].rstrip() "
      ],
      "execution_count": 0,
      "outputs": []
    },
    {
      "cell_type": "code",
      "metadata": {
        "id": "Umqmx1GagLdK",
        "colab_type": "code",
        "colab": {
          "base_uri": "https://localhost:8080/",
          "height": 34
        },
        "outputId": "5071f6da-adcf-45d7-a5a4-d5c0ac236553"
      },
      "source": [
        "num"
      ],
      "execution_count": 12,
      "outputs": [
        {
          "output_type": "execute_result",
          "data": {
            "text/plain": [
              "1074"
            ]
          },
          "metadata": {
            "tags": []
          },
          "execution_count": 12
        }
      ]
    },
    {
      "cell_type": "code",
      "metadata": {
        "id": "YwhvWLUUgTVV",
        "colab_type": "code",
        "colab": {
          "base_uri": "https://localhost:8080/",
          "height": 34
        },
        "outputId": "f6333b9d-a388-477c-feee-5c8c28ed43d4"
      },
      "source": [
        "len(s_entities)"
      ],
      "execution_count": 13,
      "outputs": [
        {
          "output_type": "execute_result",
          "data": {
            "text/plain": [
              "975"
            ]
          },
          "metadata": {
            "tags": []
          },
          "execution_count": 13
        }
      ]
    },
    {
      "cell_type": "code",
      "metadata": {
        "id": "w34D3ckWgW0U",
        "colab_type": "code",
        "colab": {
          "base_uri": "https://localhost:8080/",
          "height": 34
        },
        "outputId": "0023a87e-8ea2-4fc0-90eb-cf4fd85dc6bd"
      },
      "source": [
        "len(s_rel)"
      ],
      "execution_count": 14,
      "outputs": [
        {
          "output_type": "execute_result",
          "data": {
            "text/plain": [
              "78"
            ]
          },
          "metadata": {
            "tags": []
          },
          "execution_count": 14
        }
      ]
    },
    {
      "cell_type": "code",
      "metadata": {
        "id": "ubvwyFnwgYcq",
        "colab_type": "code",
        "colab": {}
      },
      "source": [
        ""
      ],
      "execution_count": 0,
      "outputs": []
    }
  ]
}