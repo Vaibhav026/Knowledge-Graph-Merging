{
 "cells": [
  {
   "cell_type": "code",
   "execution_count": 0,
   "metadata": {
    "colab": {},
    "colab_type": "code",
    "id": "kyeMMKtmfuD4"
   },
   "outputs": [],
   "source": [
    "s_entities = {}\n",
    "s_rel = {}\n",
    "sparse_graph = {}\n",
    "\n",
    "i = 0\n",
    "with open(\"entity2id.txt\",\"r\") as f1:\n",
    "\tfor x in f1:\n",
    "\t\tif(i != 0):\n",
    "\t\t\ta,b = x.split(' ')\n",
    "\t\t\ta = a.rstrip()\n",
    "\t\t\tb = b.rstrip()\n",
    "\t\t\t\n",
    "\t\t\ts_entities[b] = a\n",
    "\t\t\n",
    "\t\ti = i + 1\t\n",
    "\n",
    "i = 0\n",
    "\n",
    "with open(\"relation2id.txt\",\"r\") as f1:\n",
    "\tfor x in f1:\n",
    "\t\tif(i != 0):\n",
    "\t\t\ta,b = x.split(' ')\n",
    "\t\t\ta = a.rstrip()\n",
    "\t\t\tb = b.rstrip()\n",
    "\t\t\ts_rel[b] = a\n",
    "\t\t\n",
    "\t\ti = i + 1\t\n",
    "\n",
    "i = 0\n",
    "\n",
    "ent_degree = {}\n",
    "\n",
    "num_triples = 0\n",
    "with open(\"triples2id.txt\",\"r\") as f1:\n",
    "\tfor x in f1:\n",
    "\t\t\n",
    "\t\te1,e2,r = x.split(' ')\n",
    "\t\t\n",
    "\t\tr = r.rstrip()\n",
    "\t\te1 = e1.rstrip()\n",
    "\t\te2 = e2.rstrip()\n",
    "\n",
    "\t\tif(s_entities[e1] not in sparse_graph):\n",
    "\t\t\tsparse_graph[ s_entities[e1] ] = []\n",
    "\t\t\tent_degree[ s_entities[e1] ] = 0\n",
    "\t\t\n",
    "\t\tif ( ( s_rel[r] , s_entities[e2] ) not in   sparse_graph[ s_entities[e1] ]):\n",
    "\t\t\tsparse_graph[ s_entities[e1] ].append( ( s_rel[r] , s_entities[e2] ) )\n",
    "\t\t\tnum_triples = num_triples + 1\n",
    "\t\t\tent_degree[ s_entities[e1] ] = ent_degree[ s_entities[e1] ] + 1\t\n",
    "\n"
   ]
  },
  {
   "cell_type": "code",
   "execution_count": 8,
   "metadata": {
    "colab": {
     "base_uri": "https://localhost:8080/",
     "height": 208
    },
    "colab_type": "code",
    "id": "WngCIbqRpAI5",
    "outputId": "3ebe61f1-0cc4-48e2-9b86-2ee1a51faf94"
   },
   "outputs": [
    {
     "name": "stdout",
     "output_type": "stream",
     "text": [
      "--2019-07-10 05:29:16--  https://s3.amazonaws.com/conceptnet/downloads/2018/edges/conceptnet-assertions-5.6.0.csv.gz\n",
      "Resolving s3.amazonaws.com (s3.amazonaws.com)... 52.216.21.213\n",
      "Connecting to s3.amazonaws.com (s3.amazonaws.com)|52.216.21.213|:443... connected.\n",
      "HTTP request sent, awaiting response... 200 OK\n",
      "Length: 471053810 (449M) [text/csv]\n",
      "Saving to: ‘conceptnet-assertions-5.6.0.csv.gz’\n",
      "\n",
      "conceptnet-assertio 100%[===================>] 449.23M  42.8MB/s    in 9.8s    \n",
      "\n",
      "2019-07-10 05:29:26 (46.0 MB/s) - ‘conceptnet-assertions-5.6.0.csv.gz’ saved [471053810/471053810]\n",
      "\n"
     ]
    }
   ],
   "source": [
    "!wget https://s3.amazonaws.com/conceptnet/downloads/2018/edges/conceptnet-assertions-5.6.0.csv.gz"
   ]
  },
  {
   "cell_type": "code",
   "execution_count": 0,
   "metadata": {
    "colab": {},
    "colab_type": "code",
    "id": "o-gECz3kpKIb"
   },
   "outputs": [],
   "source": [
    "!gunzip conceptnet-assertions-5.6.0.csv.gz"
   ]
  },
  {
   "cell_type": "code",
   "execution_count": 0,
   "metadata": {
    "colab": {},
    "colab_type": "code",
    "id": "8PrNgLTxpuWu"
   },
   "outputs": [],
   "source": [
    "graph = {}\n",
    "i = 1\n",
    "\n",
    "with open(\"conceptnet-assertions-5.6.0.csv\",\"r\") as f1:\n",
    "\tfor x in f1:\n",
    "\t\t# print(i)\n",
    "\t\ti = i +1\n",
    "\t\ta,b,c,d,e = x.split('\t',4)\n",
    "\n",
    "\n",
    "\t\t# print(a)\n",
    "\t\t# print(b)\n",
    "\t\t# print(c)\n",
    "\t\t# print(d)\n",
    "\t\t# print(e)\n",
    "\n",
    "\n",
    "\t\t# relation\n",
    "\t\tb1,b2,b3 = b.split('/',2)\n",
    "\n",
    "\t\tif(\"/\" in b3):\n",
    "\t\t\tb33,b4 = b3.split('/')\n",
    "\t\telse:\n",
    "\t\t\tb4 = b3\t\n",
    " \t\t# print(b1)\n",
    "\t\t# print(b2)\n",
    "\t\t# print(b3)\n",
    "\t\t# print(b4)\n",
    "\n",
    "\n",
    "\t\t# entity1\n",
    "\t\tc1,c2,c3,c4 = c.split('/',3)\n",
    "\n",
    "\t\tif(\"/\" in c4):\n",
    "\t\t\tc4,c5 = c4.split('/')\n",
    "\t\t\n",
    "\t\t# print(c1)\n",
    "\t\t# print(c2)\n",
    "\t\t# print(c3)\n",
    "\t\t# print(c4)\n",
    "\t\t# print(c5)\n",
    "\n",
    "\t\t# entity2\n",
    "\t\td1,d2,d3,d4 = d.split('/',3)\n",
    "\n",
    "\t\tif(\"/\" in d4):\n",
    "\t\t\td4,d5 = d4.split('/',1)\n",
    "\t\t# print(d1)\n",
    "\t\t# print(d2)\n",
    "\t\t# print(d3)\n",
    "\t\t# print(d4)\n",
    "\n",
    "\n",
    "\t\t# print(c4)\n",
    "\t\t# print(b4)\n",
    "\t\t# print(d4)\n",
    "\n",
    "\t\tc4 = c4.rstrip()\n",
    "\t\tb4 = b4.rstrip()\n",
    "\t\td4 = d4.rstrip()\n",
    "\t\tif(c4 not in graph):\n",
    "\t\t\tgraph[c4] = []\n",
    "\t\t\t\n",
    "\t\tgraph[c4].append((b4,d4))"
   ]
  },
  {
   "cell_type": "code",
   "execution_count": 26,
   "metadata": {
    "colab": {
     "base_uri": "https://localhost:8080/",
     "height": 34
    },
    "colab_type": "code",
    "id": "zudL5rz9q9d6",
    "outputId": "b4b72d99-d766-4c5a-ce42-047e8e3ce2b6"
   },
   "outputs": [
    {
     "name": "stdout",
     "output_type": "stream",
     "text": [
      "36600\n"
     ]
    }
   ],
   "source": [
    "print(num_triples)\n",
    "ent_sot = sorted(ent_degree.items(), key=lambda x: x[1] , reverse  = True)"
   ]
  },
  {
   "cell_type": "code",
   "execution_count": 0,
   "metadata": {
    "colab": {},
    "colab_type": "code",
    "id": "3IxWIFKXtS45"
   },
   "outputs": [],
   "source": [
    "\n",
    "num = 0\n",
    "\n",
    "cnt = 0\n",
    "\n",
    "for (ent,n) in ent_sot:\n",
    "\n",
    "\tif(cnt > 6000):\n",
    "\t\tbreak\n",
    "\tcnt = cnt + 1\t\n",
    "\tif(ent in graph):\n",
    "\t\tfor r in graph[ent]:\n",
    "\n",
    "\t\t\tif(r not in sparse_graph[ent]):\n",
    "\t\t\t\tsparse_graph[ent].append(r)\n",
    "\n",
    "\t\t\t\tnum = num + 1\n",
    "        \n",
    "        \n",
    "\t\t\t\tif(r[0] not in s_rel.values()):\n",
    "\t\t\t\t\ts_rel[len(s_rel)] = r[0].rstrip() \n",
    "\n",
    "\t\t\t\tif(r[1] not in s_entities.values()):\n",
    "\t\t\t\t\ts_entities[ len(s_entities) ] = r[1].rstrip()\n",
    "\n"
   ]
  },
  {
   "cell_type": "code",
   "execution_count": 28,
   "metadata": {
    "colab": {
     "base_uri": "https://localhost:8080/",
     "height": 34
    },
    "colab_type": "code",
    "id": "Gti9Z2-HtzfA",
    "outputId": "ae316467-25ae-4bba-a8eb-42b6999657c7"
   },
   "outputs": [
    {
     "name": "stdout",
     "output_type": "stream",
     "text": [
      "number of triples added 121386\n"
     ]
    }
   ],
   "source": [
    "print(\"number of triples added\" , num)"
   ]
  },
  {
   "cell_type": "code",
   "execution_count": 0,
   "metadata": {
    "colab": {
     "base_uri": "https://localhost:8080/",
     "height": 34
    },
    "colab_type": "code",
    "id": "ZICFVEJKt5i-",
    "outputId": "94fda3c4-1aff-4b35-81f3-7a70637ac346"
   },
   "outputs": [
    {
     "data": {
      "text/plain": [
       "12043"
      ]
     },
     "execution_count": 4,
     "metadata": {
      "tags": []
     },
     "output_type": "execute_result"
    }
   ],
   "source": [
    "len(sparse_graph)"
   ]
  },
  {
   "cell_type": "code",
   "execution_count": 29,
   "metadata": {
    "colab": {
     "base_uri": "https://localhost:8080/",
     "height": 34
    },
    "colab_type": "code",
    "id": "_mZH7BIUUlmD",
    "outputId": "14dd16e6-2cf5-44d3-de9a-749e2942669f"
   },
   "outputs": [
    {
     "name": "stdout",
     "output_type": "stream",
     "text": [
      "90152\n"
     ]
    }
   ],
   "source": [
    "print( len(s_entities))"
   ]
  },
  {
   "cell_type": "code",
   "execution_count": 30,
   "metadata": {
    "colab": {
     "base_uri": "https://localhost:8080/",
     "height": 34
    },
    "colab_type": "code",
    "id": "5Lfe9aDdUrMB",
    "outputId": "79cc4a45-f48c-485c-dc32-7c8c4a3524e3"
   },
   "outputs": [
    {
     "name": "stdout",
     "output_type": "stream",
     "text": [
      "102\n"
     ]
    }
   ],
   "source": [
    "print( len(s_rel) )"
   ]
  },
  {
   "cell_type": "code",
   "execution_count": 0,
   "metadata": {
    "colab": {},
    "colab_type": "code",
    "id": "7o1QDRwSasdR"
   },
   "outputs": [],
   "source": []
  },
  {
   "cell_type": "markdown",
   "metadata": {
    "colab_type": "text",
    "id": "w2BYNouUfAqJ"
   },
   "source": [
    "**Assortivity for original KG**"
   ]
  },
  {
   "cell_type": "markdown",
   "metadata": {
    "colab_type": "text",
    "id": "6Rb0tqZce-4E"
   },
   "source": []
  },
  {
   "cell_type": "code",
   "execution_count": 0,
   "metadata": {
    "colab": {},
    "colab_type": "code",
    "id": "I7jOYocAfHm5"
   },
   "outputs": [],
   "source": [
    "s_entities = {}\n",
    "s_rel = {}\n",
    "sparse_graph = {}\n",
    "\n",
    "i = 0\n",
    "with open(\"entity2id.txt\",\"r\") as f1:\n",
    "\tfor x in f1:\n",
    "\t\tif(i != 0):\n",
    "\t\t\ta,b = x.split(' ')\n",
    "\t\t\ta = a.rstrip()\n",
    "\t\t\tb = b.rstrip()\n",
    "\t\t\t\n",
    "\t\t\ts_entities[b] = a\n",
    "\t\t\n",
    "\t\ti = i + 1\t\n",
    "\n",
    "i = 0\n",
    "\n",
    "with open(\"relation2id.txt\",\"r\") as f1:\n",
    "\tfor x in f1:\n",
    "\t\tif(i != 0):\n",
    "\t\t\ta,b = x.split(' ')\n",
    "\t\t\ta = a.rstrip()\n",
    "\t\t\tb = b.rstrip()\n",
    "\t\t\ts_rel[b] = a\n",
    "\t\t\n",
    "\t\ti = i + 1\t\n",
    "\n",
    "i = 0\n",
    "\n",
    "ent_degree = {}\n",
    "\n",
    "num_triples = 0\n",
    "with open(\"triples2id.txt\",\"r\") as f1:\n",
    "\tfor x in f1:\n",
    "\t\t\n",
    "\t\te1,e2,r = x.split(' ')\n",
    "\t\t\n",
    "\t\tr = r.rstrip()\n",
    "\t\te1 = e1.rstrip()\n",
    "\t\te2 = e2.rstrip()\n",
    "\n",
    "\t\tif(s_entities[e1] not in sparse_graph):\n",
    "\t\t\tsparse_graph[ s_entities[e1] ] = []\n",
    "\t\t\tent_degree[ s_entities[e1] ] = 0\n",
    "\t\t\n",
    "\t\tif ( ( s_rel[r] , s_entities[e2] ) not in   sparse_graph[ s_entities[e1] ]):\n",
    "\t\t\tsparse_graph[ s_entities[e1] ].append( ( s_rel[r] , s_entities[e2] ) )\n",
    "\t\t\tnum_triples = num_triples + 1\n",
    "\t\t\tent_degree[ s_entities[e1] ] = ent_degree[ s_entities[e1] ] + 1\t\n",
    "\n"
   ]
  },
  {
   "cell_type": "code",
   "execution_count": 0,
   "metadata": {
    "colab": {},
    "colab_type": "code",
    "id": "YRYiQ1YOfLxE"
   },
   "outputs": [],
   "source": [
    "import networkx as nx\n",
    "G=nx.Graph()\n",
    "\n",
    "lst = []\n",
    "\n",
    "for i in range(0,len(s_entities)):\n",
    "  lst.append(i)\n",
    "  \n",
    "G.add_nodes_from(lst)  \n",
    "  "
   ]
  },
  {
   "cell_type": "code",
   "execution_count": 0,
   "metadata": {
    "colab": {},
    "colab_type": "code",
    "id": "1X5h8hOvfVwM"
   },
   "outputs": [],
   "source": [
    "map_entities = {}\n",
    "map_rel = {}\n",
    "\n",
    "with open(\"Entity2id.txt\",\"w+\") as ent2id:\n",
    "\tent2id.write(str(len(s_entities)) + \"\\n\")\n",
    "\tfor ent in s_entities:\n",
    "\t\tent2id.write(str(s_entities[ent]) + \" \" + str(ent) + \"\\n\")\n",
    "\t\tmap_entities[str(s_entities[ent])] = str(ent)\n",
    "\t\ti = i + 1\n",
    "\n",
    "i = 0\n",
    "\n",
    "\n",
    "\n",
    "with open(\"Relation2id.txt\",\"w+\") as rel2id:\n",
    "\trel2id.write(str(len(s_rel)) + \"\\n\")\n",
    "\tfor rel in s_rel:\n",
    "\t\trel2id.write(str(s_rel[rel]) + \" \" + str(rel) + \"\\n\")\n",
    "\t\tmap_rel[str(s_rel[rel])] = str(rel)\n",
    "\t\ti = i + 1\n",
    "\n",
    "\n",
    "l = 0\n",
    "with open(\"Triples.txt\",\"w+\") as t2id:\n",
    "\tfor ent in sparse_graph:\n",
    "\t\tfor rel in sparse_graph[ent]:\n",
    "\t\t\tt2id.write(str(map_entities[ent]) + \" \" +str(map_entities[rel[1].rstrip()]) + \" \" + str(map_rel[rel[0].rstrip()]) + \"\\n\")\n",
    "\t\t\tG.add_edge( int(map_entities[ent]) , int(map_entities[rel[1].rstrip()]) )\n",
    "\t\t\tl = l + 1\n"
   ]
  },
  {
   "cell_type": "code",
   "execution_count": 35,
   "metadata": {
    "colab": {
     "base_uri": "https://localhost:8080/",
     "height": 86
    },
    "colab_type": "code",
    "id": "eEY4BKEGfenn",
    "outputId": "d3120b78-ee98-49f6-82e5-e277c89010d2"
   },
   "outputs": [
    {
     "name": "stdout",
     "output_type": "stream",
     "text": [
      "-0.23156888792905256\n",
      "-0.23156888792905256\n",
      "-0.23156888792905256\n",
      "-0.23156888792905256\n"
     ]
    }
   ],
   "source": [
    "r1 =  nx.degree_assortativity_coefficient(G,'in','in')\n",
    "r2 =  nx.degree_assortativity_coefficient(G,'in','out')\n",
    "r3 =  nx.degree_assortativity_coefficient(G,'out','in')\n",
    "r4 =  nx.degree_assortativity_coefficient(G,'out','out')\n",
    "print(r1)\n",
    "print(r2)\n",
    "print(r3)\n",
    "print(r4)"
   ]
  },
  {
   "cell_type": "code",
   "execution_count": 0,
   "metadata": {
    "colab": {},
    "colab_type": "code",
    "id": "Dqu0Qc3TfveF"
   },
   "outputs": [],
   "source": []
  },
  {
   "cell_type": "markdown",
   "metadata": {
    "colab_type": "text",
    "id": "MwhpjRVLgGzR"
   },
   "source": [
    "**Assotivity for merged graph witout pruning**"
   ]
  },
  {
   "cell_type": "code",
   "execution_count": 0,
   "metadata": {
    "colab": {},
    "colab_type": "code",
    "id": "nqLlE7sogL77"
   },
   "outputs": [],
   "source": [
    "s_entities = {}\n",
    "s_rel = {}\n",
    "sparse_graph = {}\n",
    "\n",
    "i = 0\n",
    "with open(\"entity2id.txt\",\"r\") as f1:\n",
    "\tfor x in f1:\n",
    "\t\tif(i != 0):\n",
    "\t\t\ta,b = x.split(' ')\n",
    "\t\t\ta = a.rstrip()\n",
    "\t\t\tb = b.rstrip()\n",
    "\t\t\t\n",
    "\t\t\ts_entities[b] = a\n",
    "\t\t\n",
    "\t\ti = i + 1\t\n",
    "\n",
    "i = 0\n",
    "\n",
    "with open(\"relation2id.txt\",\"r\") as f1:\n",
    "\tfor x in f1:\n",
    "\t\tif(i != 0):\n",
    "\t\t\ta,b = x.split(' ')\n",
    "\t\t\ta = a.rstrip()\n",
    "\t\t\tb = b.rstrip()\n",
    "\t\t\ts_rel[b] = a\n",
    "\t\t\n",
    "\t\ti = i + 1\t\n",
    "\n",
    "i = 0\n",
    "\n",
    "ent_degree = {}\n",
    "\n",
    "num_triples = 0\n",
    "with open(\"triples2id.txt\",\"r\") as f1:\n",
    "\tfor x in f1:\n",
    "\t\t\n",
    "\t\te1,e2,r = x.split(' ')\n",
    "\t\t\n",
    "\t\tr = r.rstrip()\n",
    "\t\te1 = e1.rstrip()\n",
    "\t\te2 = e2.rstrip()\n",
    "\n",
    "\t\tif(s_entities[e1] not in sparse_graph):\n",
    "\t\t\tsparse_graph[ s_entities[e1] ] = []\n",
    "\t\t\tent_degree[ s_entities[e1] ] = 0\n",
    "\t\t\n",
    "\t\tif ( ( s_rel[r] , s_entities[e2] ) not in   sparse_graph[ s_entities[e1] ]):\n",
    "\t\t\tsparse_graph[ s_entities[e1] ].append( ( s_rel[r] , s_entities[e2] ) )\n",
    "\t\t\tnum_triples = num_triples + 1\n",
    "\t\t\tent_degree[ s_entities[e1] ] = ent_degree[ s_entities[e1] ] + 1\t\n",
    "\n"
   ]
  },
  {
   "cell_type": "code",
   "execution_count": 0,
   "metadata": {
    "colab": {},
    "colab_type": "code",
    "id": "9q2lgeyFgPev"
   },
   "outputs": [],
   "source": [
    "ent_sot = sorted(ent_degree.items(), key=lambda x: x[1] , reverse  = True)"
   ]
  },
  {
   "cell_type": "code",
   "execution_count": 0,
   "metadata": {
    "colab": {},
    "colab_type": "code",
    "id": "sQSIF26vgU3T"
   },
   "outputs": [],
   "source": [
    "\n",
    "num = 0\n",
    "\n",
    "cnt = 0\n",
    "\n",
    "for (ent,n) in ent_sot:\n",
    "\n",
    "\tif(cnt > 6000):\n",
    "\t\tbreak\n",
    "\tcnt = cnt + 1\t\n",
    "\tif(ent in graph):\n",
    "\t\tfor r in graph[ent]:\n",
    "\n",
    "\t\t\tif(r not in sparse_graph[ent]):\n",
    "\t\t\t\tsparse_graph[ent].append(r)\n",
    "\n",
    "\t\t\t\tnum = num + 1\n",
    "        \n",
    "        \n",
    "\t\t\t\tif(r[0] not in s_rel.values()):\n",
    "\t\t\t\t\ts_rel[len(s_rel)] = r[0].rstrip() \n",
    "\n",
    "\t\t\t\tif(r[1] not in s_entities.values()):\n",
    "\t\t\t\t\ts_entities[ len(s_entities) ] = r[1].rstrip()\n",
    "\n"
   ]
  },
  {
   "cell_type": "code",
   "execution_count": 43,
   "metadata": {
    "colab": {
     "base_uri": "https://localhost:8080/",
     "height": 86
    },
    "colab_type": "code",
    "id": "aR7d3mqTgZ_L",
    "outputId": "a3b18db1-ead2-4482-fca3-0ef802b05450"
   },
   "outputs": [
    {
     "name": "stdout",
     "output_type": "stream",
     "text": [
      "-0.20793602702574301\n",
      "-0.20793602702574301\n",
      "-0.20793602702574301\n",
      "-0.20793602702574301\n"
     ]
    }
   ],
   "source": [
    "import networkx as nx\n",
    "G=nx.Graph()\n",
    "\n",
    "lst = []\n",
    "\n",
    "for i in range(0,len(s_entities)):\n",
    "  lst.append(i)\n",
    "  \n",
    "G.add_nodes_from(lst)  \n",
    "\n",
    "map_entities = {}\n",
    "map_rel = {}\n",
    "\n",
    "with open(\"Entity2id.txt\",\"w+\") as ent2id:\n",
    "\tent2id.write(str(len(s_entities)) + \"\\n\")\n",
    "\tfor ent in s_entities:\n",
    "\t\tent2id.write(str(s_entities[ent]) + \" \" + str(ent) + \"\\n\")\n",
    "\t\tmap_entities[str(s_entities[ent])] = str(ent)\n",
    "\t\ti = i + 1\n",
    "\n",
    "i = 0\n",
    "\n",
    "\n",
    "\n",
    "with open(\"Relation2id.txt\",\"w+\") as rel2id:\n",
    "\trel2id.write(str(len(s_rel)) + \"\\n\")\n",
    "\tfor rel in s_rel:\n",
    "\t\trel2id.write(str(s_rel[rel]) + \" \" + str(rel) + \"\\n\")\n",
    "\t\tmap_rel[str(s_rel[rel])] = str(rel)\n",
    "\t\ti = i + 1\n",
    "\n",
    "\n",
    "l = 0\n",
    "with open(\"Triples.txt\",\"w+\") as t2id:\n",
    "\tfor ent in sparse_graph:\n",
    "\t\tfor rel in sparse_graph[ent]:\n",
    "\t\t\tt2id.write(str(map_entities[ent]) + \" \" +str(map_entities[rel[1].rstrip()]) + \" \" + str(map_rel[rel[0].rstrip()]) + \"\\n\")\n",
    "\t\t\tG.add_edge( int(map_entities[ent]) , int(map_entities[rel[1].rstrip()]) )\n",
    "\t\t\tl = l + 1\n",
    "\n",
    "      \n",
    "r1 =  nx.degree_assortativity_coefficient(G,'in','in')\n",
    "r2 =  nx.degree_assortativity_coefficient(G,'in','out')\n",
    "r3 =  nx.degree_assortativity_coefficient(G,'out','in')\n",
    "r4 =  nx.degree_assortativity_coefficient(G,'out','out')\n",
    "print(r1)\n",
    "print(r2)\n",
    "print(r3)\n",
    "print(r4)      \n"
   ]
  },
  {
   "cell_type": "code",
   "execution_count": 44,
   "metadata": {
    "colab": {
     "base_uri": "https://localhost:8080/",
     "height": 34
    },
    "colab_type": "code",
    "id": "vrgZROEaiYEO",
    "outputId": "7177fe2e-e108-4a15-f845-a1860fa3258a"
   },
   "outputs": [
    {
     "data": {
      "text/plain": [
       "121386"
      ]
     },
     "execution_count": 44,
     "metadata": {
      "tags": []
     },
     "output_type": "execute_result"
    }
   ],
   "source": [
    "num"
   ]
  },
  {
   "cell_type": "code",
   "execution_count": 0,
   "metadata": {
    "colab": {},
    "colab_type": "code",
    "id": "WN291QD1jecw"
   },
   "outputs": [],
   "source": []
  },
  {
   "cell_type": "markdown",
   "metadata": {
    "colab_type": "text",
    "id": "l6gChG8jjxkg"
   },
   "source": [
    "**ONLY for Important Entities**"
   ]
  },
  {
   "cell_type": "code",
   "execution_count": 0,
   "metadata": {
    "colab": {},
    "colab_type": "code",
    "id": "Q8RI8PjAj17Q"
   },
   "outputs": [],
   "source": [
    "s_entities = {}\n",
    "s_rel = {}\n",
    "sparse_graph = {}\n",
    "\n",
    "i = 0\n",
    "with open(\"entity2id.txt\",\"r\") as f1:\n",
    "\tfor x in f1:\n",
    "\t\tif(i != 0):\n",
    "\t\t\ta,b = x.split(' ')\n",
    "\t\t\ta = a.rstrip()\n",
    "\t\t\tb = b.rstrip()\n",
    "\t\t\t\n",
    "\t\t\ts_entities[b] = a\n",
    "\t\t\n",
    "\t\ti = i + 1\t\n",
    "\n",
    "i = 0\n",
    "\n",
    "with open(\"relation2id.txt\",\"r\") as f1:\n",
    "\tfor x in f1:\n",
    "\t\tif(i != 0):\n",
    "\t\t\ta,b = x.split(' ')\n",
    "\t\t\ta = a.rstrip()\n",
    "\t\t\tb = b.rstrip()\n",
    "\t\t\ts_rel[b] = a\n",
    "\t\t\n",
    "\t\ti = i + 1\t\n",
    "\n",
    "i = 0\n",
    "\n",
    "ent_degree = {}\n",
    "\n",
    "num_triples = 0\n",
    "with open(\"triples2id.txt\",\"r\") as f1:\n",
    "\tfor x in f1:\n",
    "\t\t\n",
    "\t\te1,e2,r = x.split(' ')\n",
    "\t\t\n",
    "\t\tr = r.rstrip()\n",
    "\t\te1 = e1.rstrip()\n",
    "\t\te2 = e2.rstrip()\n",
    "\n",
    "\t\tif(s_entities[e1] not in sparse_graph):\n",
    "\t\t\tsparse_graph[ s_entities[e1] ] = []\n",
    "\t\t\tent_degree[ s_entities[e1] ] = 0\n",
    "\t\t\n",
    "\t\tif ( ( s_rel[r] , s_entities[e2] ) not in   sparse_graph[ s_entities[e1] ]):\n",
    "\t\t\tsparse_graph[ s_entities[e1] ].append( ( s_rel[r] , s_entities[e2] ) )\n",
    "\t\t\tnum_triples = num_triples + 1\n",
    "\t\t\tent_degree[ s_entities[e1] ] = ent_degree[ s_entities[e1] ] + 1\t\n",
    "\n"
   ]
  },
  {
   "cell_type": "code",
   "execution_count": 0,
   "metadata": {
    "colab": {},
    "colab_type": "code",
    "id": "bd7vw7b8j_WA"
   },
   "outputs": [],
   "source": [
    " \n",
    "\n",
    "\n",
    "map_entities = {}\n",
    "map_rel = {}\n",
    "\n",
    "with open(\"Entity2id.txt\",\"w+\") as ent2id:\n",
    "\tent2id.write(str(len(s_entities)) + \"\\n\")\n",
    "\tfor ent in s_entities:\n",
    "\t\tent2id.write(str(s_entities[ent]) + \" \" + str(ent) + \"\\n\")\n",
    "\t\tmap_entities[str(s_entities[ent])] = str(ent)\n",
    "\t\ti = i + 1\n",
    "\n",
    "i = 0\n",
    "\n",
    "\n",
    "\n",
    "with open(\"Relation2id.txt\",\"w+\") as rel2id:\n",
    "\trel2id.write(str(len(s_rel)) + \"\\n\")\n",
    "\tfor rel in s_rel:\n",
    "\t\trel2id.write(str(s_rel[rel]) + \" \" + str(rel) + \"\\n\")\n",
    "\t\tmap_rel[str(s_rel[rel])] = str(rel)\n",
    "\t\ti = i + 1"
   ]
  },
  {
   "cell_type": "code",
   "execution_count": 0,
   "metadata": {
    "colab": {},
    "colab_type": "code",
    "id": "paGNNyjlkPwZ"
   },
   "outputs": [],
   "source": [
    "cnt = 0\n",
    "lst = []\n",
    "\n",
    "for (ent,n) in ent_sot:\n",
    "  if(cnt > 6000):\n",
    "    break\n",
    "  \n",
    "  cnt = cnt + 1\n",
    "  \n",
    "  lst.append(int(map_entities[ent]))\n",
    "  "
   ]
  },
  {
   "cell_type": "code",
   "execution_count": 0,
   "metadata": {
    "colab": {},
    "colab_type": "code",
    "id": "y4CbF2_NkV9s"
   },
   "outputs": [],
   "source": [
    "import networkx as nx\n",
    "G=nx.Graph()\n",
    "\n",
    "all_lst = []\n",
    "\n",
    "for i in range(0,len(s_entities)):\n",
    "  all_lst.append(i)\n",
    "  \n",
    "G.add_nodes_from(all_lst) \n",
    "\n",
    "l = 0\n",
    "with open(\"Triples.txt\",\"w+\") as t2id:\n",
    "\tfor ent in sparse_graph:\n",
    "\t\tfor rel in sparse_graph[ent]:\n",
    "\t\t\tt2id.write(str(map_entities[ent]) + \" \" +str(map_entities[rel[1].rstrip()]) + \" \" + str(map_rel[rel[0].rstrip()]) + \"\\n\")\n",
    "\t\t\tG.add_edge( int(map_entities[ent]) , int(map_entities[rel[1].rstrip()]) )\n",
    "\t\t\tl = l + 1"
   ]
  },
  {
   "cell_type": "code",
   "execution_count": 49,
   "metadata": {
    "colab": {
     "base_uri": "https://localhost:8080/",
     "height": 34
    },
    "colab_type": "code",
    "id": "nEriROLDksh5",
    "outputId": "010bb2a4-74cf-41e1-81e4-b95e24494d6c"
   },
   "outputs": [
    {
     "name": "stdout",
     "output_type": "stream",
     "text": [
      "original important entities -0.1752061464128144\n"
     ]
    }
   ],
   "source": [
    "r=nx.degree_assortativity_coefficient(G,'in','in', nodes = lst)\n",
    "print(\"original important entities\",r)"
   ]
  },
  {
   "cell_type": "code",
   "execution_count": 0,
   "metadata": {
    "colab": {},
    "colab_type": "code",
    "id": "fhbR0A03kwiA"
   },
   "outputs": [],
   "source": []
  },
  {
   "cell_type": "code",
   "execution_count": 0,
   "metadata": {
    "colab": {},
    "colab_type": "code",
    "id": "1hxnv630k6Eq"
   },
   "outputs": [],
   "source": []
  },
  {
   "cell_type": "markdown",
   "metadata": {
    "colab_type": "text",
    "id": "ixjSFgL1k6hR"
   },
   "source": [
    "**ONly imp entities merged without pruning**"
   ]
  },
  {
   "cell_type": "code",
   "execution_count": 0,
   "metadata": {
    "colab": {},
    "colab_type": "code",
    "id": "aUyvxRY8k-93"
   },
   "outputs": [],
   "source": [
    "s_entities = {}\n",
    "s_rel = {}\n",
    "sparse_graph = {}\n",
    "\n",
    "i = 0\n",
    "with open(\"entity2id.txt\",\"r\") as f1:\n",
    "\tfor x in f1:\n",
    "\t\tif(i != 0):\n",
    "\t\t\ta,b = x.split(' ')\n",
    "\t\t\ta = a.rstrip()\n",
    "\t\t\tb = b.rstrip()\n",
    "\t\t\t\n",
    "\t\t\ts_entities[b] = a\n",
    "\t\t\n",
    "\t\ti = i + 1\t\n",
    "\n",
    "i = 0\n",
    "\n",
    "with open(\"relation2id.txt\",\"r\") as f1:\n",
    "\tfor x in f1:\n",
    "\t\tif(i != 0):\n",
    "\t\t\ta,b = x.split(' ')\n",
    "\t\t\ta = a.rstrip()\n",
    "\t\t\tb = b.rstrip()\n",
    "\t\t\ts_rel[b] = a\n",
    "\t\t\n",
    "\t\ti = i + 1\t\n",
    "\n",
    "i = 0\n",
    "\n",
    "ent_degree = {}\n",
    "\n",
    "num_triples = 0\n",
    "with open(\"triples2id.txt\",\"r\") as f1:\n",
    "\tfor x in f1:\n",
    "\t\t\n",
    "\t\te1,e2,r = x.split(' ')\n",
    "\t\t\n",
    "\t\tr = r.rstrip()\n",
    "\t\te1 = e1.rstrip()\n",
    "\t\te2 = e2.rstrip()\n",
    "\n",
    "\t\tif(s_entities[e1] not in sparse_graph):\n",
    "\t\t\tsparse_graph[ s_entities[e1] ] = []\n",
    "\t\t\tent_degree[ s_entities[e1] ] = 0\n",
    "\t\t\n",
    "\t\tif ( ( s_rel[r] , s_entities[e2] ) not in   sparse_graph[ s_entities[e1] ]):\n",
    "\t\t\tsparse_graph[ s_entities[e1] ].append( ( s_rel[r] , s_entities[e2] ) )\n",
    "\t\t\tnum_triples = num_triples + 1\n",
    "\t\t\tent_degree[ s_entities[e1] ] = ent_degree[ s_entities[e1] ] + 1\t\n",
    "\n"
   ]
  },
  {
   "cell_type": "code",
   "execution_count": 0,
   "metadata": {
    "colab": {},
    "colab_type": "code",
    "id": "sLyKfCUelB_L"
   },
   "outputs": [],
   "source": [
    "ent_sot = sorted(ent_degree.items(), key=lambda x: x[1] , reverse  = True)\n"
   ]
  },
  {
   "cell_type": "code",
   "execution_count": 0,
   "metadata": {
    "colab": {},
    "colab_type": "code",
    "id": "nRYlP2jLlKFt"
   },
   "outputs": [],
   "source": [
    "\n",
    "num = 0\n",
    "\n",
    "cnt = 0\n",
    "\n",
    "for (ent,n) in ent_sot:\n",
    "\n",
    "\tif(cnt > 6000):\n",
    "\t\tbreak\n",
    "\tcnt = cnt + 1\t\n",
    "\tif(ent in graph):\n",
    "\t\tfor r in graph[ent]:\n",
    "\n",
    "\t\t\tif(r not in sparse_graph[ent]):\n",
    "\t\t\t\tsparse_graph[ent].append(r)\n",
    "\n",
    "\t\t\t\tnum = num + 1\n",
    "        \n",
    "        \n",
    "\t\t\t\tif(r[0] not in s_rel.values()):\n",
    "\t\t\t\t\ts_rel[len(s_rel)] = r[0].rstrip() \n",
    "\n",
    "\t\t\t\tif(r[1] not in s_entities.values()):\n",
    "\t\t\t\t\ts_entities[ len(s_entities) ] = r[1].rstrip()\n",
    "\n"
   ]
  },
  {
   "cell_type": "code",
   "execution_count": 57,
   "metadata": {
    "colab": {
     "base_uri": "https://localhost:8080/",
     "height": 34
    },
    "colab_type": "code",
    "id": "BogrDu6alPpz",
    "outputId": "2892838d-0c93-46c0-8eaa-5f7123ba6c6d"
   },
   "outputs": [
    {
     "name": "stdout",
     "output_type": "stream",
     "text": [
      "merged without important entities -0.15665569412483832\n"
     ]
    }
   ],
   "source": [
    " \n",
    "\n",
    "\n",
    "map_entities = {}\n",
    "map_rel = {}\n",
    "\n",
    "with open(\"Entity2id.txt\",\"w+\") as ent2id:\n",
    "\tent2id.write(str(len(s_entities)) + \"\\n\")\n",
    "\tfor ent in s_entities:\n",
    "\t\tent2id.write(str(s_entities[ent]) + \" \" + str(ent) + \"\\n\")\n",
    "\t\tmap_entities[str(s_entities[ent])] = str(ent)\n",
    "\t\ti = i + 1\n",
    "\n",
    "i = 0\n",
    "\n",
    "\n",
    "\n",
    "with open(\"Relation2id.txt\",\"w+\") as rel2id:\n",
    "\trel2id.write(str(len(s_rel)) + \"\\n\")\n",
    "\tfor rel in s_rel:\n",
    "\t\trel2id.write(str(s_rel[rel]) + \" \" + str(rel) + \"\\n\")\n",
    "\t\tmap_rel[str(s_rel[rel])] = str(rel)\n",
    "\t\ti = i + 1\n",
    "    \n",
    "    \n",
    "cnt = 0\n",
    "lst = []\n",
    "\n",
    "for (ent,n) in ent_sot:\n",
    "  if(cnt > 6000):\n",
    "    break\n",
    "  \n",
    "  cnt = cnt + 1\n",
    "  \n",
    "  lst.append(int(map_entities[ent]))\n",
    "\n",
    "  \n",
    "import networkx as nx\n",
    "G=nx.Graph()\n",
    "\n",
    "all_lst = []\n",
    "\n",
    "for i in range(0,len(s_entities)):\n",
    "  all_lst.append(i)\n",
    "  \n",
    "G.add_nodes_from(all_lst) \n",
    "\n",
    "l = 0\n",
    "with open(\"Triples.txt\",\"w+\") as t2id:\n",
    "\tfor ent in sparse_graph:\n",
    "\t\tfor rel in sparse_graph[ent]:\n",
    "\t\t\tt2id.write(str(map_entities[ent]) + \" \" +str(map_entities[rel[1].rstrip()]) + \" \" + str(map_rel[rel[0].rstrip()]) + \"\\n\")\n",
    "\t\t\tG.add_edge( int(map_entities[ent]) , int(map_entities[rel[1].rstrip()]) )\n",
    "\t\t\tl = l + 1\n",
    "\n",
    "r=nx.degree_assortativity_coefficient(G,'in','in', nodes = lst)\n",
    "print(\"merged without important entities\",r)      "
   ]
  },
  {
   "cell_type": "code",
   "execution_count": 0,
   "metadata": {
    "colab": {},
    "colab_type": "code",
    "id": "aOlqjNkYnMxd"
   },
   "outputs": [],
   "source": []
  }
 ],
 "metadata": {
  "accelerator": "GPU",
  "colab": {
   "name": "Centrality + Nell sports.ipynb",
   "provenance": [],
   "version": "0.3.2"
  },
  "kernelspec": {
   "display_name": "Python 3",
   "language": "python",
   "name": "python3"
  },
  "language_info": {
   "codemirror_mode": {
    "name": "ipython",
    "version": 3
   },
   "file_extension": ".py",
   "mimetype": "text/x-python",
   "name": "python",
   "nbconvert_exporter": "python",
   "pygments_lexer": "ipython3",
   "version": "3.5.2"
  }
 },
 "nbformat": 4,
 "nbformat_minor": 1
}
