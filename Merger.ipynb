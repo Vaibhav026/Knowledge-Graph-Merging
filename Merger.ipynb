{
  "nbformat": 4,
  "nbformat_minor": 0,
  "metadata": {
    "colab": {
      "name": "Merger.ipynb",
      "version": "0.3.2",
      "provenance": []
    },
    "language_info": {
      "codemirror_mode": {
        "name": "ipython",
        "version": 3
      },
      "file_extension": ".py",
      "mimetype": "text/x-python",
      "name": "python",
      "nbconvert_exporter": "python",
      "pygments_lexer": "ipython3",
      "version": "3.5.2"
    },
    "kernelspec": {
      "display_name": "Python 3",
      "language": "python",
      "name": "python3"
    }
  },
  "cells": [
    {
      "cell_type": "code",
      "metadata": {
        "colab_type": "code",
        "id": "2npmtwMzKkH2",
        "colab": {}
      },
      "source": [
        "a = 1"
      ],
      "execution_count": 0,
      "outputs": []
    },
    {
      "cell_type": "code",
      "metadata": {
        "colab_type": "code",
        "id": "HuTEITrCKmNZ",
        "outputId": "acc8314b-e8f6-4b16-9ba2-edfc114c087f",
        "colab": {
          "base_uri": "https://localhost:8080/",
          "height": 36
        }
      },
      "source": [
        "a"
      ],
      "execution_count": 0,
      "outputs": [
        {
          "output_type": "execute_result",
          "data": {
            "text/plain": [
              "1"
            ]
          },
          "metadata": {
            "tags": []
          },
          "execution_count": 4
        }
      ]
    },
    {
      "cell_type": "code",
      "metadata": {
        "colab_type": "code",
        "id": "HfOiHpteKncz",
        "outputId": "93e76ee6-fafc-4a2c-96f1-63039cb9dd99",
        "colab": {
          "base_uri": "https://localhost:8080/",
          "height": 208
        }
      },
      "source": [
        "!wget https://s3.amazonaws.com/conceptnet/downloads/2018/edges/conceptnet-assertions-5.6.0.csv.gz"
      ],
      "execution_count": 2,
      "outputs": [
        {
          "output_type": "stream",
          "text": [
            "--2019-07-10 08:54:10--  https://s3.amazonaws.com/conceptnet/downloads/2018/edges/conceptnet-assertions-5.6.0.csv.gz\n",
            "Resolving s3.amazonaws.com (s3.amazonaws.com)... 52.216.168.69\n",
            "Connecting to s3.amazonaws.com (s3.amazonaws.com)|52.216.168.69|:443... connected.\n",
            "HTTP request sent, awaiting response... 200 OK\n",
            "Length: 471053810 (449M) [text/csv]\n",
            "Saving to: ‘conceptnet-assertions-5.6.0.csv.gz’\n",
            "\n",
            "conceptnet-assertio 100%[===================>] 449.23M  58.5MB/s    in 7.7s    \n",
            "\n",
            "2019-07-10 08:54:23 (58.7 MB/s) - ‘conceptnet-assertions-5.6.0.csv.gz’ saved [471053810/471053810]\n",
            "\n"
          ],
          "name": "stdout"
        }
      ]
    },
    {
      "cell_type": "code",
      "metadata": {
        "colab_type": "code",
        "id": "fSny3wdKSJea",
        "colab": {}
      },
      "source": [
        "!gunzip conceptnet-assertions-5.6.0.csv.gz"
      ],
      "execution_count": 0,
      "outputs": []
    },
    {
      "cell_type": "code",
      "metadata": {
        "colab_type": "code",
        "id": "cg4i2Tq3Y9Rw",
        "colab": {}
      },
      "source": [
        "graph = {}\n",
        "i = 1\n",
        "\n",
        "with open(\"conceptnet-assertions-5.6.0.csv\",\"r\") as f1:\n",
        "\tfor x in f1:\n",
        "\t\t# print(i)\n",
        "\t\ti = i +1\n",
        "\t\ta,b,c,d,e = x.split('\t',4)\n",
        "\n",
        "\n",
        "\t\t# print(a)\n",
        "\t\t# print(b)\n",
        "\t\t# print(c)\n",
        "\t\t# print(d)\n",
        "\t\t# print(e)\n",
        "\n",
        "\n",
        "\t\t# relation\n",
        "\t\tb1,b2,b3 = b.split('/',2)\n",
        "\n",
        "\t\tif(\"/\" in b3):\n",
        "\t\t\tb33,b4 = b3.split('/')\n",
        "\t\telse:\n",
        "\t\t\tb4 = b3\t\n",
        " \t\t# print(b1)\n",
        "\t\t# print(b2)\n",
        "\t\t# print(b3)\n",
        "\t\t# print(b4)\n",
        "\n",
        "\n",
        "\t\t# entity1\n",
        "\t\tc1,c2,c3,c4 = c.split('/',3)\n",
        "\n",
        "\t\tif(\"/\" in c4):\n",
        "\t\t\tc4,c5 = c4.split('/')\n",
        "\t\t\n",
        "\t\t# print(c1)\n",
        "\t\t# print(c2)\n",
        "\t\t# print(c3)\n",
        "\t\t# print(c4)\n",
        "\t\t# print(c5)\n",
        "\n",
        "\t\t# entity2\n",
        "\t\td1,d2,d3,d4 = d.split('/',3)\n",
        "\n",
        "\t\tif(\"/\" in d4):\n",
        "\t\t\td4,d5 = d4.split('/',1)\n",
        "\t\t# print(d1)\n",
        "\t\t# print(d2)\n",
        "\t\t# print(d3)\n",
        "\t\t# print(d4)\n",
        "\n",
        "\n",
        "\t\t# print(c4)\n",
        "\t\t# print(b4)\n",
        "\t\t# print(d4)\n",
        "\n",
        "\t\tc4 = c4.rstrip()\n",
        "\t\tb4 = b4.rstrip()\n",
        "\t\td4 = d4.rstrip()\n",
        "\t\tif(c4 not in graph):\n",
        "\t\t\tgraph[c4] = []\n",
        "\t\t\t\n",
        "\t\tgraph[c4].append((b4,d4))"
      ],
      "execution_count": 0,
      "outputs": []
    },
    {
      "cell_type": "code",
      "metadata": {
        "colab_type": "code",
        "id": "JyLyLzhVepiY",
        "outputId": "e66f9fbf-e422-4411-8f85-1dfcec2e916b",
        "colab": {
          "base_uri": "https://localhost:8080/",
          "height": 208
        }
      },
      "source": [
        ""
      ],
      "execution_count": 0,
      "outputs": [
        {
          "output_type": "stream",
          "text": [
            "--2019-06-27 10:36:13--  https://github.com/dongwookim-ml/kg-data/blob/master/nation/triples.txt\n",
            "Resolving github.com (github.com)... 192.30.253.113\n",
            "Connecting to github.com (github.com)|192.30.253.113|:443... connected.\n",
            "HTTP request sent, awaiting response... 200 OK\n",
            "Length: unspecified [text/html]\n",
            "Saving to: ‘triples.txt’\n",
            "\n",
            "triples.txt             [  <=>               ] 440.75K  1.47MB/s    in 0.3s    \n",
            "\n",
            "2019-06-27 10:36:14 (1.47 MB/s) - ‘triples.txt’ saved [451330]\n",
            "\n"
          ],
          "name": "stdout"
        }
      ]
    },
    {
      "cell_type": "code",
      "metadata": {
        "colab_type": "code",
        "id": "0_HilhcMgczc",
        "colab": {}
      },
      "source": [
        ""
      ],
      "execution_count": 0,
      "outputs": []
    },
    {
      "cell_type": "code",
      "metadata": {
        "colab_type": "code",
        "id": "VsmEQQhBgvS4",
        "outputId": "9dfc6765-5a43-4fb8-b212-3182841bf0a4",
        "colab": {
          "base_uri": "https://localhost:8080/",
          "height": 124
        }
      },
      "source": [
        ""
      ],
      "execution_count": 0,
      "outputs": [
        {
          "output_type": "stream",
          "text": [
            "Go to this URL in a browser: https://accounts.google.com/o/oauth2/auth?client_id=947318989803-6bn6qk8qdgf4n4g3pfee6491hc0brc4i.apps.googleusercontent.com&redirect_uri=urn%3Aietf%3Awg%3Aoauth%3A2.0%3Aoob&scope=email%20https%3A%2F%2Fwww.googleapis.com%2Fauth%2Fdocs.test%20https%3A%2F%2Fwww.googleapis.com%2Fauth%2Fdrive%20https%3A%2F%2Fwww.googleapis.com%2Fauth%2Fdrive.photos.readonly%20https%3A%2F%2Fwww.googleapis.com%2Fauth%2Fpeopleapi.readonly&response_type=code\n",
            "\n",
            "Enter your authorization code:\n",
            "··········\n",
            "Mounted at /content/drive\n"
          ],
          "name": "stdout"
        }
      ]
    },
    {
      "cell_type": "code",
      "metadata": {
        "colab_type": "code",
        "id": "aqiqhyrLgwmq",
        "colab": {}
      },
      "source": [
        "s_entities = {}\n",
        "s_rel = {}\n",
        "sparse_graph = {}\n",
        "\n",
        "i = 0\n",
        "with open(\"entity2id.txt\",\"r\") as f1:\n",
        "\tfor x in f1:\n",
        "\t\tif(i != 0):\n",
        "\t\t\ta,b = x.split(' ')\n",
        "\t\t\ta = a.rstrip()\n",
        "\t\t\tb = b.rstrip()\n",
        "\t\t\ts_entities[b] = a\n",
        "\t\t\n",
        "\t\ti = i + 1\t\n",
        "\n",
        "i = 0\n",
        "\n",
        "with open(\"relation2id.txt\",\"r\") as f1:\n",
        "\tfor x in f1:\n",
        "\t\tif(i != 0):\n",
        "\t\t\ta,b = x.split(' ')\n",
        "\t\t\ta = a.rstrip()\n",
        "\t\t\tb = b.rstrip()\n",
        "\t\t\ts_rel[b] = a\n",
        "\t\t\n",
        "\t\ti = i + 1\t\n",
        "\n",
        "i = 0\n",
        "\n",
        "ent_deg = {}\n",
        "\n",
        "num_triples = 0\n",
        "with open(\"triples.txt\",\"r\") as f1:\n",
        "\tfor x in f1:\n",
        "\t\t\n",
        "\t\tr,e1,e2 = x.split('\t')\n",
        "\t\t\n",
        "\t\tr = r.rstrip()\n",
        "\t\te1 = e1.rstrip()\n",
        "\t\te2 = e2.rstrip()\n",
        "\n",
        "\t\tif(s_entities[e1] not in sparse_graph):\n",
        "\t\t\tsparse_graph[ s_entities[e1] ] = []\n",
        "\t\t\tent_deg[ s_entities[e1] ] = 0\n",
        "\t\t\n",
        "\t\tif ( ( s_rel[r] , s_entities[e2] ) not in   sparse_graph[ s_entities[e1] ]):\n",
        "\t\t\tsparse_graph[ s_entities[e1] ].append( ( s_rel[r] , s_entities[e2] ) )\n",
        "\t\t\tnum_triples = num_triples + 1\n",
        "\t\t\tent_deg[ s_entities[e1] ] = ent_deg[ s_entities[e1] ] + 1\t\n",
        "\n",
        "\n"
      ],
      "execution_count": 0,
      "outputs": []
    },
    {
      "cell_type": "code",
      "metadata": {
        "colab_type": "code",
        "id": "1w0V1b7NhgZZ",
        "outputId": "e977b63f-a2df-41d3-e0cb-bbdab65f0fc0",
        "colab": {
          "base_uri": "https://localhost:8080/",
          "height": 173
        }
      },
      "source": [
        "print(num_triples)\n",
        "ent_sot = sorted(ent_deg.items(), key=lambda x: x[1] , reverse  = True)\n",
        "cnt = 0\n",
        "num = 0\n",
        "for (ent,n) in ent_sot:\n",
        "\t\n",
        "# \tprint(ent)\n",
        "# \tif(cnt > 7):\n",
        "# \t\tbreak\n",
        "# \tcnt = cnt + 1\n",
        "\n",
        "\tif(ent in graph):\n",
        "\t\tfor r in graph[ent]:\n",
        "\n",
        "\t\t\tif(r not in sparse_graph[ent]):\n",
        "\t\t\t\tsparse_graph[ent].append(r)\n",
        "\n",
        "\t\t\t\tnum = num + 1\n",
        "        \n",
        "        \n",
        "\t\t\t\tif(r[0] not in s_rel.values()):\n",
        "\t\t\t\t\ts_rel[len(s_rel)] = r[0].rstrip() \n",
        "\n",
        "\t\t\t\tif(r[1] not in s_entities.values()):\n",
        "\t\t\t\t\ts_entities[ len(s_entities) ] = r[1].rstrip() "
      ],
      "execution_count": 0,
      "outputs": [
        {
          "output_type": "stream",
          "text": [
            "usa\n",
            "uk\n",
            "ussr\n",
            "poland\n",
            "egypt\n",
            "china\n",
            "netherlands\n",
            "india\n",
            "cuba\n"
          ],
          "name": "stdout"
        }
      ]
    },
    {
      "cell_type": "code",
      "metadata": {
        "colab_type": "code",
        "id": "iSVXUs94TVJx",
        "outputId": "9aad5c11-6dba-4c4f-c25f-f21a9a284d30",
        "colab": {
          "base_uri": "https://localhost:8080/",
          "height": 34
        }
      },
      "source": [
        "print(num_triples)"
      ],
      "execution_count": 7,
      "outputs": [
        {
          "output_type": "stream",
          "text": [
            "2024\n"
          ],
          "name": "stdout"
        }
      ]
    },
    {
      "cell_type": "code",
      "metadata": {
        "colab_type": "code",
        "id": "E7clsuGKTWOA",
        "colab": {}
      },
      "source": [
        "import networkx as nx\n",
        "G= nx.MultiDiGraph()"
      ],
      "execution_count": 0,
      "outputs": []
    },
    {
      "cell_type": "code",
      "metadata": {
        "colab_type": "code",
        "id": "oEtlWtRATjEa",
        "outputId": "4f05cbf5-1b10-4ca3-8100-8fbcaf4d2f79",
        "colab": {
          "base_uri": "https://localhost:8080/",
          "height": 34
        }
      },
      "source": [
        "len(s_entities)"
      ],
      "execution_count": 29,
      "outputs": [
        {
          "output_type": "execute_result",
          "data": {
            "text/plain": [
              "14"
            ]
          },
          "metadata": {
            "tags": []
          },
          "execution_count": 29
        }
      ]
    },
    {
      "cell_type": "code",
      "metadata": {
        "colab_type": "code",
        "id": "jgDPgdwXWC3h",
        "colab": {}
      },
      "source": [
        "ls = []\n",
        "\n",
        "for i in range(0,len(s_entities)):\n",
        "  ls.append(i)"
      ],
      "execution_count": 0,
      "outputs": []
    },
    {
      "cell_type": "code",
      "metadata": {
        "colab_type": "code",
        "id": "FlaRVqc6WPqm",
        "colab": {}
      },
      "source": [
        " G.add_nodes_from(ls)"
      ],
      "execution_count": 0,
      "outputs": []
    },
    {
      "cell_type": "code",
      "metadata": {
        "colab_type": "code",
        "id": "OJS8NNEhWQTE",
        "colab": {}
      },
      "source": [
        "map_entities = {}\n",
        "map_rel = {}\n",
        "\n",
        "with open(\"Entity2id.txt\",\"w+\") as ent2id:\n",
        "\tent2id.write(str(len(s_entities)) + \"\\n\")\n",
        "\tfor ent in s_entities:\n",
        "\t\tent2id.write(str(s_entities[ent]) + \" \" + str(ent) + \"\\n\")\n",
        "\t\tmap_entities[str(s_entities[ent])] = str(ent)\n",
        "\t\ti = i + 1\n",
        "\n",
        "i = 0\n",
        "\n",
        "\n",
        "\n",
        "with open(\"Relation2id.txt\",\"w+\") as rel2id:\n",
        "\trel2id.write(str(len(s_rel)) + \"\\n\")\n",
        "\tfor rel in s_rel:\n",
        "\t\trel2id.write(str(s_rel[rel]) + \" \" + str(rel) + \"\\n\")\n",
        "\t\tmap_rel[str(s_rel[rel])] = str(rel)\n",
        "\t\ti = i + 1\n",
        "\n",
        "\n",
        "l = 0\n",
        "with open(\"Triples.txt\",\"w+\") as t2id:\n",
        "\tfor ent in sparse_graph:\n",
        "\t\tfor rel in sparse_graph[ent]:\n",
        "\t\t\tt2id.write(str(map_entities[ent]) + \" \" +str(map_entities[rel[1].rstrip()]) + \" \" + str(map_rel[rel[0].rstrip()]) + \"\\n\")\n",
        "\t\t\tG.add_edge( int(map_entities[ent]) , int(map_entities[rel[1].rstrip()]) )\n",
        "\t\t\tl = l + 1\n"
      ],
      "execution_count": 0,
      "outputs": []
    },
    {
      "cell_type": "code",
      "metadata": {
        "colab_type": "code",
        "id": "wnFgFrb4WUYl",
        "outputId": "b21f5bc1-f962-4bd9-ba6c-1c1ee80aadf3",
        "colab": {
          "base_uri": "https://localhost:8080/",
          "height": 34
        }
      },
      "source": [
        "r=nx.degree_assortativity_coefficient(G)\n",
        "print(r)"
      ],
      "execution_count": 33,
      "outputs": [
        {
          "output_type": "stream",
          "text": [
            "-0.1358482649627927\n"
          ],
          "name": "stdout"
        }
      ]
    },
    {
      "cell_type": "code",
      "metadata": {
        "colab_type": "code",
        "id": "Hc1h0BSWWWWO",
        "outputId": "9e705b66-c95f-4b2a-a67a-7f5d9881a97a",
        "colab": {
          "base_uri": "https://localhost:8080/",
          "height": 34
        }
      },
      "source": [
        "len(G.edges)"
      ],
      "execution_count": 35,
      "outputs": [
        {
          "output_type": "execute_result",
          "data": {
            "text/plain": [
              "2024"
            ]
          },
          "metadata": {
            "tags": []
          },
          "execution_count": 35
        }
      ]
    },
    {
      "cell_type": "code",
      "metadata": {
        "colab_type": "code",
        "id": "wyXiB5oSWXnc",
        "outputId": "cfbb3cc8-6525-4454-8a90-296f1b61d17d",
        "colab": {
          "base_uri": "https://localhost:8080/",
          "height": 34
        }
      },
      "source": [
        ""
      ],
      "execution_count": 0,
      "outputs": [
        {
          "output_type": "stream",
          "text": [
            "-0.6738927293633622\n"
          ],
          "name": "stdout"
        }
      ]
    },
    {
      "cell_type": "markdown",
      "metadata": {
        "id": "d-6IzpW3M4cV",
        "colab_type": "text"
      },
      "source": [
        "**WIth merging**"
      ]
    },
    {
      "cell_type": "code",
      "metadata": {
        "colab_type": "code",
        "id": "iEu772RwaIfq",
        "colab": {}
      },
      "source": [
        "s_entities = {}\n",
        "s_rel = {}\n",
        "sparse_graph = {}\n",
        "\n",
        "i = 0\n",
        "with open(\"entity2id.txt\",\"r\") as f1:\n",
        "\tfor x in f1:\n",
        "\t\tif(i != 0):\n",
        "\t\t\ta,b = x.split(' ')\n",
        "\t\t\ta = a.rstrip()\n",
        "\t\t\tb = b.rstrip()\n",
        "\t\t\ts_entities[b] = a\n",
        "\t\t\n",
        "\t\ti = i + 1\t\n",
        "\n",
        "i = 0\n",
        "\n",
        "with open(\"relation2id.txt\",\"r\") as f1:\n",
        "\tfor x in f1:\n",
        "\t\tif(i != 0):\n",
        "\t\t\ta,b = x.split(' ')\n",
        "\t\t\ta = a.rstrip()\n",
        "\t\t\tb = b.rstrip()\n",
        "\t\t\ts_rel[b] = a\n",
        "\t\t\n",
        "\t\ti = i + 1\t\n",
        "\n",
        "i = 0\n",
        "\n",
        "ent_deg = {}\n",
        "\n",
        "num_triples = 0\n",
        "with open(\"triples.txt\",\"r\") as f1:\n",
        "\tfor x in f1:\n",
        "\t\t\n",
        "\t\tr,e1,e2 = x.split('\t')\n",
        "\t\t\n",
        "\t\tr = r.rstrip()\n",
        "\t\te1 = e1.rstrip()\n",
        "\t\te2 = e2.rstrip()\n",
        "\n",
        "\t\tif(s_entities[e1] not in sparse_graph):\n",
        "\t\t\tsparse_graph[ s_entities[e1] ] = []\n",
        "\t\t\tent_deg[ s_entities[e1] ] = 0\n",
        "\t\t\n",
        "\t\tif ( ( s_rel[r] , s_entities[e2] ) not in   sparse_graph[ s_entities[e1] ]):\n",
        "\t\t\tsparse_graph[ s_entities[e1] ].append( ( s_rel[r] , s_entities[e2] ) )\n",
        "\t\t\tnum_triples = num_triples + 1\n",
        "\t\t\tent_deg[ s_entities[e1] ] = ent_deg[ s_entities[e1] ] + 1\t\n",
        "\n",
        "\n"
      ],
      "execution_count": 0,
      "outputs": []
    },
    {
      "cell_type": "code",
      "metadata": {
        "colab_type": "code",
        "id": "gk45b4woadrJ",
        "colab": {
          "base_uri": "https://localhost:8080/",
          "height": 34
        },
        "outputId": "94c2a40c-fe38-40b4-e1c3-7e2f44d5013b"
      },
      "source": [
        "print(num_triples)\n",
        "ent_sot = sorted(ent_deg.items(), key=lambda x: x[1] , reverse  = True)\n",
        "cnt = 0\n",
        "num = 0\n",
        "for (ent,n) in ent_sot:\n",
        "\t\n",
        "# \tprint(ent)\n",
        "# \tif(cnt > 7):\n",
        "# \t\tbreak\n",
        "# \tcnt = cnt + 1\n",
        "\n",
        "\tif(ent in graph):\n",
        "\t\tfor r in graph[ent]:\n",
        "\n",
        "\t\t\tif(r not in sparse_graph[ent]):\n",
        "\t\t\t\tsparse_graph[ent].append(r)\n",
        "\n",
        "\t\t\t\tnum = num + 1\n",
        "        \n",
        "        \n",
        "\t\t\t\tif(r[0] not in s_rel.values()):\n",
        "\t\t\t\t\ts_rel[len(s_rel)] = r[0].rstrip() \n",
        "\n",
        "\t\t\t\tif(r[1] not in s_entities.values()):\n",
        "\t\t\t\t\ts_entities[ len(s_entities) ] = r[1].rstrip() "
      ],
      "execution_count": 37,
      "outputs": [
        {
          "output_type": "stream",
          "text": [
            "2024\n"
          ],
          "name": "stdout"
        }
      ]
    },
    {
      "cell_type": "code",
      "metadata": {
        "id": "ZB_Y_EPEMECh",
        "colab_type": "code",
        "colab": {
          "base_uri": "https://localhost:8080/",
          "height": 34
        },
        "outputId": "c98b50bc-0286-495a-91d5-4157a6a30572"
      },
      "source": [
        "num"
      ],
      "execution_count": 38,
      "outputs": [
        {
          "output_type": "execute_result",
          "data": {
            "text/plain": [
              "1733"
            ]
          },
          "metadata": {
            "tags": []
          },
          "execution_count": 38
        }
      ]
    },
    {
      "cell_type": "code",
      "metadata": {
        "id": "ECFBn16wMJVa",
        "colab_type": "code",
        "colab": {}
      },
      "source": [
        "import networkx as nx\n",
        "G= nx.MultiDiGraph()\n",
        "ls = []\n",
        "\n",
        "for i in range(0,len(s_entities)):\n",
        "  ls.append(i)\n",
        "\n",
        "G.add_nodes_from(ls)\n",
        "\n",
        "map_entities = {}\n",
        "map_rel = {}\n",
        "\n",
        "with open(\"Entity2id.txt\",\"w+\") as ent2id:\n",
        "\tent2id.write(str(len(s_entities)) + \"\\n\")\n",
        "\tfor ent in s_entities:\n",
        "\t\tent2id.write(str(s_entities[ent]) + \" \" + str(ent) + \"\\n\")\n",
        "\t\tmap_entities[str(s_entities[ent])] = str(ent)\n",
        "\t\ti = i + 1\n",
        "\n",
        "i = 0\n",
        "\n",
        "\n",
        "\n",
        "with open(\"Relation2id.txt\",\"w+\") as rel2id:\n",
        "\trel2id.write(str(len(s_rel)) + \"\\n\")\n",
        "\tfor rel in s_rel:\n",
        "\t\trel2id.write(str(s_rel[rel]) + \" \" + str(rel) + \"\\n\")\n",
        "\t\tmap_rel[str(s_rel[rel])] = str(rel)\n",
        "\t\ti = i + 1\n",
        "\n",
        "\n",
        "l = 0\n",
        "with open(\"Triples.txt\",\"w+\") as t2id:\n",
        "\tfor ent in sparse_graph:\n",
        "\t\tfor rel in sparse_graph[ent]:\n",
        "\t\t\tt2id.write(str(map_entities[ent]) + \" \" +str(map_entities[rel[1].rstrip()]) + \" \" + str(map_rel[rel[0].rstrip()]) + \"\\n\")\n",
        "\t\t\tG.add_edge( int(map_entities[ent]) , int(map_entities[rel[1].rstrip()]) )\n",
        "\t\t\tl = l + 1\n"
      ],
      "execution_count": 0,
      "outputs": []
    },
    {
      "cell_type": "code",
      "metadata": {
        "id": "_H5FjNRqMNUX",
        "colab_type": "code",
        "colab": {
          "base_uri": "https://localhost:8080/",
          "height": 34
        },
        "outputId": "22aeb1b6-acfa-47a9-8b39-f718cde566bc"
      },
      "source": [
        "r=nx.degree_assortativity_coefficient(G)\n",
        "print(r)"
      ],
      "execution_count": 40,
      "outputs": [
        {
          "output_type": "stream",
          "text": [
            "-0.1714294075315562\n"
          ],
          "name": "stdout"
        }
      ]
    },
    {
      "cell_type": "code",
      "metadata": {
        "id": "OTokNxeoMOvB",
        "colab_type": "code",
        "colab": {
          "base_uri": "https://localhost:8080/",
          "height": 34
        },
        "outputId": "62fa1f88-1a79-4ff3-ae98-c7c4a32188d9"
      },
      "source": [
        "print(len(s_rel))"
      ],
      "execution_count": 42,
      "outputs": [
        {
          "output_type": "stream",
          "text": [
            "79\n"
          ],
          "name": "stdout"
        }
      ]
    },
    {
      "cell_type": "code",
      "metadata": {
        "id": "PlApEmV2NzZ2",
        "colab_type": "code",
        "colab": {}
      },
      "source": [
        ""
      ],
      "execution_count": 0,
      "outputs": []
    },
    {
      "cell_type": "markdown",
      "metadata": {
        "id": "wPJmY_gZN_ZU",
        "colab_type": "text"
      },
      "source": [
        "**Merging with pruning**"
      ]
    },
    {
      "cell_type": "code",
      "metadata": {
        "id": "XLahhjfyOCAf",
        "colab_type": "code",
        "colab": {}
      },
      "source": [
        "s_entities = {}\n",
        "s_rel = {}\n",
        "sparse_graph = {}\n",
        "\n",
        "i = 0\n",
        "with open(\"entity2id.txt\",\"r\") as f1:\n",
        "\tfor x in f1:\n",
        "\t\tif(i != 0):\n",
        "\t\t\ta,b = x.split(' ')\n",
        "\t\t\ta = a.rstrip()\n",
        "\t\t\tb = b.rstrip()\n",
        "\t\t\ts_entities[b] = a\n",
        "\t\t\n",
        "\t\ti = i + 1\t\n",
        "\n",
        "i = 0\n",
        "\n",
        "with open(\"relation2id.txt\",\"r\") as f1:\n",
        "\tfor x in f1:\n",
        "\t\tif(i != 0):\n",
        "\t\t\ta,b = x.split(' ')\n",
        "\t\t\ta = a.rstrip()\n",
        "\t\t\tb = b.rstrip()\n",
        "\t\t\ts_rel[b] = a\n",
        "\t\t\n",
        "\t\ti = i + 1\t\n",
        "\n",
        "i = 0\n",
        "\n",
        "ent_deg = {}\n",
        "\n",
        "num_triples = 0\n",
        "with open(\"triples.txt\",\"r\") as f1:\n",
        "\tfor x in f1:\n",
        "\t\t\n",
        "\t\tr,e1,e2 = x.split('\t')\n",
        "\t\t\n",
        "\t\tr = r.rstrip()\n",
        "\t\te1 = e1.rstrip()\n",
        "\t\te2 = e2.rstrip()\n",
        "\n",
        "\t\tif(s_entities[e1] not in sparse_graph):\n",
        "\t\t\tsparse_graph[ s_entities[e1] ] = []\n",
        "\t\t\tent_deg[ s_entities[e1] ] = 0\n",
        "\t\t\n",
        "\t\tif ( ( s_rel[r] , s_entities[e2] ) not in   sparse_graph[ s_entities[e1] ]):\n",
        "\t\t\tsparse_graph[ s_entities[e1] ].append( ( s_rel[r] , s_entities[e2] ) )\n",
        "\t\t\tnum_triples = num_triples + 1\n",
        "\t\t\tent_deg[ s_entities[e1] ] = ent_deg[ s_entities[e1] ] + 1\t\n",
        "\n",
        "\n"
      ],
      "execution_count": 0,
      "outputs": []
    },
    {
      "cell_type": "code",
      "metadata": {
        "id": "n3UiD6uKOE7u",
        "colab_type": "code",
        "colab": {
          "base_uri": "https://localhost:8080/",
          "height": 191
        },
        "outputId": "0774d677-24af-4a6a-9a11-d72293e53d47"
      },
      "source": [
        "print(num_triples)\n",
        "ent_sot = sorted(ent_deg.items(), key=lambda x: x[1] , reverse  = True)\n",
        "cnt = 0\n",
        "num = 0\n",
        "for (ent,n) in ent_sot:\n",
        "\t\n",
        "\tprint(ent)\n",
        "\tif(cnt > 7):\n",
        "\t\tbreak\n",
        "\tcnt = cnt + 1\n",
        "\n",
        "\tif(ent in graph):\n",
        "\t\tfor r in graph[ent]:\n",
        "\n",
        "\t\t\tif(r not in sparse_graph[ent]):\n",
        "\t\t\t\tsparse_graph[ent].append(r)\n",
        "\n",
        "\t\t\t\tnum = num + 1\n",
        "        \n",
        "        \n",
        "\t\t\t\tif(r[0] not in s_rel.values()):\n",
        "\t\t\t\t\ts_rel[len(s_rel)] = r[0].rstrip() \n",
        "\n",
        "\t\t\t\tif(r[1] not in s_entities.values()):\n",
        "\t\t\t\t\ts_entities[ len(s_entities) ] = r[1].rstrip() "
      ],
      "execution_count": 44,
      "outputs": [
        {
          "output_type": "stream",
          "text": [
            "2024\n",
            "usa\n",
            "uk\n",
            "ussr\n",
            "poland\n",
            "egypt\n",
            "china\n",
            "netherlands\n",
            "india\n",
            "cuba\n"
          ],
          "name": "stdout"
        }
      ]
    },
    {
      "cell_type": "code",
      "metadata": {
        "id": "K4h4j4JzOJLT",
        "colab_type": "code",
        "colab": {}
      },
      "source": [
        "import networkx as nx\n",
        "G= nx.MultiDiGraph()\n",
        "ls = []\n",
        "\n",
        "for i in range(0,len(s_entities)):\n",
        "  ls.append(i)\n",
        "\n",
        "G.add_nodes_from(ls)\n",
        "\n",
        "map_entities = {}\n",
        "map_rel = {}\n",
        "\n",
        "with open(\"Entity2id.txt\",\"w+\") as ent2id:\n",
        "\tent2id.write(str(len(s_entities)) + \"\\n\")\n",
        "\tfor ent in s_entities:\n",
        "\t\tent2id.write(str(s_entities[ent]) + \" \" + str(ent) + \"\\n\")\n",
        "\t\tmap_entities[str(s_entities[ent])] = str(ent)\n",
        "\t\ti = i + 1\n",
        "\n",
        "i = 0\n",
        "\n",
        "\n",
        "\n",
        "with open(\"Relation2id.txt\",\"w+\") as rel2id:\n",
        "\trel2id.write(str(len(s_rel)) + \"\\n\")\n",
        "\tfor rel in s_rel:\n",
        "\t\trel2id.write(str(s_rel[rel]) + \" \" + str(rel) + \"\\n\")\n",
        "\t\tmap_rel[str(s_rel[rel])] = str(rel)\n",
        "\t\ti = i + 1\n",
        "\n",
        "\n",
        "l = 0\n",
        "with open(\"Triples.txt\",\"w+\") as t2id:\n",
        "\tfor ent in sparse_graph:\n",
        "\t\tfor rel in sparse_graph[ent]:\n",
        "\t\t\tt2id.write(str(map_entities[ent]) + \" \" +str(map_entities[rel[1].rstrip()]) + \" \" + str(map_rel[rel[0].rstrip()]) + \"\\n\")\n",
        "\t\t\tG.add_edge( int(map_entities[ent]) , int(map_entities[rel[1].rstrip()]) )\n",
        "\t\t\tl = l + 1\n"
      ],
      "execution_count": 0,
      "outputs": []
    },
    {
      "cell_type": "code",
      "metadata": {
        "id": "h6Ki28OsOOkB",
        "colab_type": "code",
        "colab": {
          "base_uri": "https://localhost:8080/",
          "height": 34
        },
        "outputId": "eedc0bc2-fbb5-4731-bf70-14998a7b9ff7"
      },
      "source": [
        "r=nx.degree_assortativity_coefficient(G)\n",
        "print(r)"
      ],
      "execution_count": 46,
      "outputs": [
        {
          "output_type": "stream",
          "text": [
            "-0.3987601033937553\n"
          ],
          "name": "stdout"
        }
      ]
    },
    {
      "cell_type": "code",
      "metadata": {
        "id": "J0sHlmGQORsn",
        "colab_type": "code",
        "colab": {
          "base_uri": "https://localhost:8080/",
          "height": 34
        },
        "outputId": "3b65bbaf-70b8-43e4-b047-75934f88f77a"
      },
      "source": [
        "num"
      ],
      "execution_count": 49,
      "outputs": [
        {
          "output_type": "execute_result",
          "data": {
            "text/plain": [
              "1074"
            ]
          },
          "metadata": {
            "tags": []
          },
          "execution_count": 49
        }
      ]
    },
    {
      "cell_type": "code",
      "metadata": {
        "id": "RKX2QfAeOXiT",
        "colab_type": "code",
        "colab": {}
      },
      "source": [
        ""
      ],
      "execution_count": 0,
      "outputs": []
    },
    {
      "cell_type": "markdown",
      "metadata": {
        "id": "8UJX7UH6a9u2",
        "colab_type": "text"
      },
      "source": [
        "**Important entities**"
      ]
    },
    {
      "cell_type": "code",
      "metadata": {
        "id": "lf8BJsOubAfu",
        "colab_type": "code",
        "colab": {}
      },
      "source": [
        "s_entities = {}\n",
        "s_rel = {}\n",
        "sparse_graph = {}\n",
        "\n",
        "i = 0\n",
        "with open(\"entity2id.txt\",\"r\") as f1:\n",
        "\tfor x in f1:\n",
        "\t\tif(i != 0):\n",
        "\t\t\ta,b = x.split(' ')\n",
        "\t\t\ta = a.rstrip()\n",
        "\t\t\tb = b.rstrip()\n",
        "\t\t\ts_entities[b] = a\n",
        "\t\t\n",
        "\t\ti = i + 1\t\n",
        "\n",
        "i = 0\n",
        "\n",
        "with open(\"relation2id.txt\",\"r\") as f1:\n",
        "\tfor x in f1:\n",
        "\t\tif(i != 0):\n",
        "\t\t\ta,b = x.split(' ')\n",
        "\t\t\ta = a.rstrip()\n",
        "\t\t\tb = b.rstrip()\n",
        "\t\t\ts_rel[b] = a\n",
        "\t\t\n",
        "\t\ti = i + 1\t\n",
        "\n",
        "i = 0\n",
        "\n",
        "ent_deg = {}\n",
        "\n",
        "num_triples = 0\n",
        "with open(\"triples.txt\",\"r\") as f1:\n",
        "\tfor x in f1:\n",
        "\t\t\n",
        "\t\tr,e1,e2 = x.split('\t')\n",
        "\t\t\n",
        "\t\tr = r.rstrip()\n",
        "\t\te1 = e1.rstrip()\n",
        "\t\te2 = e2.rstrip()\n",
        "\n",
        "\t\tif(s_entities[e1] not in sparse_graph):\n",
        "\t\t\tsparse_graph[ s_entities[e1] ] = []\n",
        "\t\t\tent_deg[ s_entities[e1] ] = 0\n",
        "\t\t\n",
        "\t\tif ( ( s_rel[r] , s_entities[e2] ) not in   sparse_graph[ s_entities[e1] ]):\n",
        "\t\t\tsparse_graph[ s_entities[e1] ].append( ( s_rel[r] , s_entities[e2] ) )\n",
        "\t\t\tnum_triples = num_triples + 1\n",
        "\t\t\tent_deg[ s_entities[e1] ] = ent_deg[ s_entities[e1] ] + 1\t\n",
        "\n",
        "\n"
      ],
      "execution_count": 0,
      "outputs": []
    },
    {
      "cell_type": "code",
      "metadata": {
        "id": "tgu7Nk19bE1S",
        "colab_type": "code",
        "colab": {}
      },
      "source": [
        ""
      ],
      "execution_count": 0,
      "outputs": []
    }
  ]
}